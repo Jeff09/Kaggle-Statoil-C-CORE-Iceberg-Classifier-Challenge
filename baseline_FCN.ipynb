{
 "cells": [
  {
   "cell_type": "code",
   "execution_count": 1,
   "metadata": {
    "ExecuteTime": {
     "end_time": "2017-12-25T17:32:19.554339Z",
     "start_time": "2017-12-25T17:31:44.543657Z"
    }
   },
   "outputs": [
    {
     "name": "stderr",
     "output_type": "stream",
     "text": [
      "Using TensorFlow backend.\n"
     ]
    }
   ],
   "source": [
    "# Random initialization\n",
    "import numpy as np\n",
    "np.random.seed(98643)\n",
    "import tensorflow as tf\n",
    "tf.set_random_seed(683)\n",
    "# Uncomment this to hide TF warnings about allocation\n",
    "#import os\n",
    "#os.environ['TF_CPP_MIN_LOG_LEVEL'] = '3'\n",
    "\n",
    "# An image clearing dependencies\n",
    "from skimage.restoration import (denoise_tv_chambolle, denoise_bilateral,\n",
    "                                 denoise_wavelet, estimate_sigma, denoise_tv_bregman, denoise_nl_means)\n",
    "from skimage.filters import gaussian\n",
    "from skimage.color import rgb2gray\n",
    "\n",
    "# Data reading and visualization\n",
    "import pandas as pd\n",
    "import matplotlib.pyplot as plt\n",
    "%matplotlib inline\n",
    "from sklearn.preprocessing import MinMaxScaler\n",
    "\n",
    "# Training part\n",
    "from keras.layers import Conv2D, MaxPooling2D, Dense, Dropout, Input, Flatten, GlobalAveragePooling2D, Lambda\n",
    "from keras.layers import GlobalMaxPooling2D\n",
    "from keras.layers.normalization import BatchNormalization\n",
    "from keras.layers.merge import Concatenate\n",
    "from keras.models import Model\n",
    "from keras.optimizers import Adam\n",
    "from keras.callbacks import ModelCheckpoint, Callback, EarlyStopping\n",
    "from sklearn.model_selection import train_test_split\n",
    "from sklearn.utils import shuffle\n",
    "from keras.preprocessing.image import ImageDataGenerator\n",
    "\n",
    "# Any results you write to the current directory are saved as output."
   ]
  },
  {
   "cell_type": "code",
   "execution_count": 2,
   "metadata": {
    "ExecuteTime": {
     "end_time": "2017-12-25T17:32:19.582288Z",
     "start_time": "2017-12-25T17:32:19.555711Z"
    },
    "collapsed": true
   },
   "outputs": [],
   "source": [
    "# Translate data to an image format\n",
    "def color_composite(data):\n",
    "    rgb_arrays = []\n",
    "    for i, row in data.iterrows():\n",
    "        band_1 = np.array(row['band_1']).reshape(75, 75)\n",
    "        band_2 = np.array(row['band_2']).reshape(75, 75)\n",
    "        band_3 = band_1 / band_2\n",
    "\n",
    "        r = (band_1 + abs(band_1.min())) / np.max((band_1 + abs(band_1.min())))\n",
    "        g = (band_2 + abs(band_2.min())) / np.max((band_2 + abs(band_2.min())))\n",
    "        b = (band_3 + abs(band_3.min())) / np.max((band_3 + abs(band_3.min())))\n",
    "\n",
    "        rgb = np.dstack((r, g, b))\n",
    "        rgb_arrays.append(rgb)\n",
    "    return np.array(rgb_arrays)\n",
    "\n",
    "def denoise(X, weight, multichannel):\n",
    "    return np.asarray([denoise_tv_chambolle(item, weight=weight, multichannel=multichannel) for item in X])\n",
    "\n",
    "def smooth(X, sigma):\n",
    "    return np.asarray([gaussian(item, sigma=sigma) for item in X])\n",
    "\n",
    "def grayscale(X):\n",
    "    return np.asarray([rgb2gray(item) for item in X])"
   ]
  },
  {
   "cell_type": "code",
   "execution_count": 3,
   "metadata": {
    "ExecuteTime": {
     "end_time": "2017-12-25T17:32:41.230284Z",
     "start_time": "2017-12-25T17:32:19.583801Z"
    },
    "collapsed": true
   },
   "outputs": [],
   "source": [
    "#Load the data.\n",
    "train = pd.read_json(\"data/processed/train.json\")\n",
    "test = pd.read_json(\"data/processed/test.json\")"
   ]
  },
  {
   "cell_type": "code",
   "execution_count": 14,
   "metadata": {
    "ExecuteTime": {
     "end_time": "2017-12-23T23:19:47.207682Z",
     "start_time": "2017-12-23T23:19:47.193647Z"
    },
    "collapsed": true
   },
   "outputs": [],
   "source": [
    "train.inc_angle = train.inc_angle.replace('na', 0)\n",
    "train.inc_angle = train.inc_angle.astype(float).fillna(0.0)\n",
    "train_all = True\n",
    "\n",
    "# These are train flags that required to train model more efficiently and \n",
    "# select proper model parameters\n",
    "train_b = True or train_all\n",
    "train_img = True or train_all\n",
    "train_total = True or train_all\n",
    "predict_submission = True and train_all\n",
    "\n",
    "clean_all = False\n",
    "clean_b = False or clean_all\n",
    "clean_img = False or clean_all\n",
    "\n",
    "load_all = False\n",
    "load_b = False or load_all\n",
    "load_img = False or load_all"
   ]
  },
  {
   "cell_type": "code",
   "execution_count": 15,
   "metadata": {
    "ExecuteTime": {
     "end_time": "2017-12-23T23:19:48.201924Z",
     "start_time": "2017-12-23T23:19:48.145202Z"
    },
    "collapsed": true
   },
   "outputs": [],
   "source": [
    "def create_dataset(frame, labeled, smooth_rgb=0.2, smooth_gray=0.5,\n",
    "                   weight_rgb=0.05, weight_gray=0.05):\n",
    "    band_1, band_2, images = frame['band_1'].values, frame['band_2'].values, color_composite(frame)\n",
    "    to_arr = lambda x: np.asarray([np.asarray(item) for item in x])\n",
    "    band_1 = to_arr(band_1)\n",
    "    band_2 = to_arr(band_2)\n",
    "    band_3 = (band_1 + band_2) / 2\n",
    "    gray_reshape = lambda x: np.asarray([item.reshape(75, 75) for item in x])\n",
    "    # Make a picture format from flat vector\n",
    "    band_1 = gray_reshape(band_1)\n",
    "    band_2 = gray_reshape(band_2)\n",
    "    band_3 = gray_reshape(band_3)\n",
    "    print('Denoising and reshaping')\n",
    "    if train_b and clean_b:\n",
    "        # Smooth and denoise data\n",
    "        band_1 = smooth(denoise(band_1, weight_gray, False), smooth_gray)\n",
    "        print('Gray 1 done')\n",
    "        band_2 = smooth(denoise(band_2, weight_gray, False), smooth_gray)\n",
    "        print('Gray 2 done')\n",
    "        band_3 = smooth(denoise(band_3, weight_gray, False), smooth_gray)\n",
    "        print('Gray 3 done')\n",
    "    if train_img and clean_img:\n",
    "        images = smooth(denoise(images, weight_rgb, True), smooth_rgb)\n",
    "    print('RGB done')\n",
    "    tf_reshape = lambda x: np.asarray([item.reshape(75, 75, 1) for item in x])\n",
    "    band_1 = tf_reshape(band_1)\n",
    "    band_2 = tf_reshape(band_2)\n",
    "    band_3 = tf_reshape(band_3)\n",
    "    #images = tf_reshape(images)\n",
    "    band = np.concatenate([band_1, band_2, band_3], axis=3)\n",
    "    if labeled:\n",
    "        y = np.array(frame[\"is_iceberg\"])\n",
    "    else:\n",
    "        y = None\n",
    "    return y, band, images"
   ]
  },
  {
   "cell_type": "code",
   "execution_count": 16,
   "metadata": {
    "ExecuteTime": {
     "end_time": "2017-12-23T23:19:50.444669Z",
     "start_time": "2017-12-23T23:19:48.769737Z"
    }
   },
   "outputs": [
    {
     "name": "stdout",
     "output_type": "stream",
     "text": [
      "Denoising and reshaping\n",
      "RGB done\n"
     ]
    }
   ],
   "source": [
    "y_train, X_b, X_images = create_dataset(train, True)"
   ]
  },
  {
   "cell_type": "code",
   "execution_count": 5,
   "metadata": {
    "ExecuteTime": {
     "end_time": "2017-12-23T23:18:11.743379Z",
     "start_time": "2017-12-23T23:18:11.460764Z"
    },
    "collapsed": true
   },
   "outputs": [],
   "source": [
    "from scipy.ndimage import rotate as rot\n",
    "\n",
    "def augment(images):\n",
    "    image_mirror_lr = []\n",
    "    image_mirror_ud = []\n",
    "    image_rotate = []\n",
    "    for i in range(0,images.shape[0]):\n",
    "        band_1 = images[i,:,:,0]\n",
    "        band_2 = images[i,:,:,1]\n",
    "        band_3 = images[i,:,:,2]\n",
    "            \n",
    "        # mirror left-right\n",
    "        band_1_mirror_lr = np.flip(band_1, 0)\n",
    "        band_2_mirror_lr = np.flip(band_2, 0)\n",
    "        band_3_mirror_lr = np.flip(band_3, 0)\n",
    "        image_mirror_lr.append(np.dstack((band_1_mirror_lr, band_2_mirror_lr, band_3_mirror_lr)))\n",
    "        \n",
    "        # mirror up-down\n",
    "        band_1_mirror_ud = np.flip(band_1, 1)\n",
    "        band_2_mirror_ud = np.flip(band_2, 1)\n",
    "        band_3_mirror_ud = np.flip(band_3, 1)\n",
    "        image_mirror_ud.append(np.dstack((band_1_mirror_ud, band_2_mirror_ud, band_3_mirror_ud)))\n",
    "        \n",
    "        #rotate \n",
    "        band_1_rotate = rot(band_1, 30, reshape=False)\n",
    "        band_2_rotate = rot(band_2, 30, reshape=False)\n",
    "        band_3_rotate = rot(band_3, 30, reshape=False)\n",
    "        image_rotate.append(np.dstack((band_1_rotate, band_2_rotate, band_3_rotate)))\n",
    "        \n",
    "    mirrorlr = np.array(image_mirror_lr)\n",
    "    mirrorud = np.array(image_mirror_ud)\n",
    "    rotated = np.array(image_rotate)\n",
    "    images = np.concatenate((images, mirrorlr, mirrorud, rotated))\n",
    "    return images"
   ]
  },
  {
   "cell_type": "code",
   "execution_count": 17,
   "metadata": {
    "ExecuteTime": {
     "end_time": "2017-12-23T23:20:00.721713Z",
     "start_time": "2017-12-23T23:19:56.466270Z"
    }
   },
   "outputs": [
    {
     "name": "stdout",
     "output_type": "stream",
     "text": [
      "(6416, 75, 75, 3)\n",
      "(6416,)\n"
     ]
    }
   ],
   "source": [
    "X_images = augment(X_images)\n",
    "y_train = np.concatenate((y_train,y_train, y_train, y_train))\n",
    "\n",
    "print (X_images.shape)\n",
    "print (y_train.shape)"
   ]
  },
  {
   "cell_type": "code",
   "execution_count": null,
   "metadata": {
    "collapsed": true
   },
   "outputs": [],
   "source": []
  },
  {
   "cell_type": "code",
   "execution_count": 18,
   "metadata": {
    "ExecuteTime": {
     "end_time": "2017-12-23T23:20:02.514086Z",
     "start_time": "2017-12-23T23:20:02.105608Z"
    }
   },
   "outputs": [
    {
     "name": "stderr",
     "output_type": "stream",
     "text": [
      "E:\\software\\anaconda\\lib\\site-packages\\sklearn\\model_selection\\_split.py:2026: FutureWarning: From version 0.21, test_size will always complement train_size unless both are specified.\n",
      "  FutureWarning)\n"
     ]
    }
   ],
   "source": [
    "X_train_cv, X_valid, y_train_cv, y_valid = train_test_split(X_images, y_train, random_state=1, train_size=0.75)"
   ]
  },
  {
   "cell_type": "code",
   "execution_count": 7,
   "metadata": {
    "ExecuteTime": {
     "end_time": "2017-12-25T17:34:48.634430Z",
     "start_time": "2017-12-25T17:34:48.606333Z"
    },
    "collapsed": true
   },
   "outputs": [],
   "source": [
    "from keras.preprocessing.image import ImageDataGenerator\n",
    "batch_size=64\n",
    "# Define the image transformations here\n",
    "gen = ImageDataGenerator(horizontal_flip = True,\n",
    "                         vertical_flip = True,\n",
    "                         width_shift_range = 0.,\n",
    "                         height_shift_range = 0.,\n",
    "                         channel_shift_range=0,\n",
    "                         zoom_range = 0.5,\n",
    "                         rotation_range = 10)\n",
    "\n",
    "# Here is the function that merges our two generators\n",
    "# We use the exact same generator with the same random seed for both the y and angle arrays\n",
    "def gen_flow_for_two_inputs(X1, X2, y):\n",
    "    genX1 = gen.flow(X1,y,  batch_size=batch_size,seed=55)\n",
    "    genX2 = gen.flow(X1,X2, batch_size=batch_size,seed=55)\n",
    "    while True:\n",
    "            X1i = genX1.next()\n",
    "            X2i = genX2.next()\n",
    "            #Assert arrays are equal - this was for peace of mind, but slows down training\n",
    "            #np.testing.assert_array_equal(X1i[0],X2i[0])\n",
    "            yield [X1i[0], X2i[1]], X1i[1]\n",
    "\n",
    "# Finally create generator\n",
    "#gen_train_flow = gen_flow(X_train_cv, y_train_cv)\n",
    "#gen_valid_flow = gen_flow(X_valid, y_valid)"
   ]
  },
  {
   "cell_type": "code",
   "execution_count": 8,
   "metadata": {
    "ExecuteTime": {
     "end_time": "2017-12-25T17:35:07.299163Z",
     "start_time": "2017-12-25T17:35:07.285126Z"
    },
    "collapsed": true
   },
   "outputs": [],
   "source": [
    "#Import Keras.\n",
    "from matplotlib import pyplot\n",
    "import keras as k\n",
    "from keras.preprocessing.image import ImageDataGenerator\n",
    "from keras.models import Sequential\n",
    "from keras.layers import Dense, Dropout, Flatten, Lambda, Activation\n",
    "from keras.layers import Conv2D, MaxPooling2D, ZeroPadding2D, GlobalAveragePooling2D, Dense, Dropout, Input, Flatten, Activation\n",
    "from keras.layers import GlobalMaxPooling2D\n",
    "from keras.layers.normalization import BatchNormalization\n",
    "from keras.layers.merge import Concatenate\n",
    "from keras.models import Model\n",
    "from keras import initializers\n",
    "from keras.optimizers import Adam\n",
    "from keras.callbacks import ModelCheckpoint, Callback, EarlyStopping, ReduceLROnPlateau"
   ]
  },
  {
   "cell_type": "code",
   "execution_count": 7,
   "metadata": {
    "ExecuteTime": {
     "end_time": "2017-12-23T23:18:17.359394Z",
     "start_time": "2017-12-23T23:18:17.145324Z"
    },
    "collapsed": true
   },
   "outputs": [],
   "source": [
    "#define our model\n",
    "def getModel():\n",
    "    #Building the model\n",
    "    gmodel=Sequential()\n",
    "    #Conv Layer 1\n",
    "    gmodel.add(Conv2D(64, kernel_size=(3, 3),activation='relu', input_shape=(75, 75, 3)))\n",
    "    gmodel.add(BatchNormalization())\n",
    "    gmodel.add(MaxPooling2D(pool_size=(3, 3), strides=(2, 2)))\n",
    "    gmodel.add(Dropout(0.2))\n",
    "\n",
    "    #Conv Layer 2\n",
    "    gmodel.add(Conv2D(128, kernel_size=(3, 3), activation='relu' ))\n",
    "    gmodel.add(BatchNormalization())\n",
    "    gmodel.add(MaxPooling2D(pool_size=(2, 2), strides=(2, 2)))\n",
    "    gmodel.add(Dropout(0.2))\n",
    "\n",
    "    #Conv Layer 3\n",
    "    gmodel.add(Conv2D(128, kernel_size=(3, 3), activation='relu'))\n",
    "    gmodel.add(BatchNormalization())\n",
    "    gmodel.add(MaxPooling2D(pool_size=(2, 2), strides=(2, 2)))\n",
    "    gmodel.add(Dropout(0.2))\n",
    "\n",
    "    #Conv Layer 4\n",
    "    gmodel.add(Conv2D(64, kernel_size=(3, 3), activation='relu'))\n",
    "    gmodel.add(BatchNormalization())\n",
    "    gmodel.add(MaxPooling2D(pool_size=(2, 2), strides=(2, 2)))\n",
    "    gmodel.add(Dropout(0.2))\n",
    "\n",
    "    #Flatten the data for upcoming dense layers\n",
    "    gmodel.add(Flatten())\n",
    "\n",
    "    #Dense Layers\n",
    "    gmodel.add(Dense(512))\n",
    "    gmodel.add(Activation('relu'))\n",
    "    gmodel.add(BatchNormalization())\n",
    "    gmodel.add(Dropout(0.2))\n",
    "\n",
    "    #Dense Layer 2\n",
    "    gmodel.add(Dense(256))\n",
    "    gmodel.add(Activation('relu'))\n",
    "    gmodel.add(BatchNormalization())\n",
    "    gmodel.add(Dropout(0.2))\n",
    "\n",
    "    #Sigmoid Layer\n",
    "    gmodel.add(Dense(1))\n",
    "    gmodel.add(Activation('sigmoid'))\n",
    "\n",
    "    mypotim=Adam(lr=0.001, beta_1=0.9, beta_2=0.999, epsilon=1e-08, decay=0.0)\n",
    "    gmodel.compile(loss='binary_crossentropy',\n",
    "                  optimizer=mypotim,\n",
    "                  metrics=['accuracy'])\n",
    "    gmodel.summary()\n",
    "    return gmodel\n",
    "\n"
   ]
  },
  {
   "cell_type": "markdown",
   "metadata": {},
   "source": [
    "### FCN"
   ]
  },
  {
   "cell_type": "code",
   "execution_count": 9,
   "metadata": {
    "ExecuteTime": {
     "end_time": "2017-12-25T17:35:32.033731Z",
     "start_time": "2017-12-25T17:35:31.973521Z"
    },
    "collapsed": true
   },
   "outputs": [],
   "source": [
    "def ConvBlock(model, layers, filters):\n",
    "    '''Create [layers] layers consisting of zero padding, a convolution with [filters] 3x3 filters and batch normalization. Perform max pooling after the last layer.'''\n",
    "    for i in range(layers):\n",
    "        model.add(ZeroPadding2D((1, 1)))\n",
    "        model.add(Conv2D(filters, (3, 3), activation='relu'))\n",
    "        model.add(BatchNormalization(axis=3))\n",
    "    model.add(MaxPooling2D((2, 2), strides=(2, 2)))\n",
    "\n",
    "def create_model():\n",
    "    '''Create the FCN and return a keras model.'''\n",
    "\n",
    "    model = Sequential()\n",
    "\n",
    "    # Input image: 75x75x3\n",
    "    model.add(Lambda(lambda x: x, input_shape=(75, 75, 3)))\n",
    "    ConvBlock(model, 1, 32)\n",
    "    # 37x37x32\n",
    "    ConvBlock(model, 1, 64)\n",
    "    # 18x18x64\n",
    "    ConvBlock(model, 1, 128)\n",
    "    # 9x9x128\n",
    "    ConvBlock(model, 1, 128)\n",
    "    # 4x4x128\n",
    "    model.add(ZeroPadding2D((1, 1)))\n",
    "    model.add(Conv2D(2, (3, 3), activation='relu'))\n",
    "    model.add(GlobalAveragePooling2D())\n",
    "    # 4x4x2\n",
    "    #model.add(Activation('softmax'))\n",
    "    model.add(Dense(1))\n",
    "    model.add(Activation('sigmoid'))\n",
    "    \n",
    "    mypotim=Adam(lr=0.001, beta_1=0.9, beta_2=0.999, epsilon=1e-08, decay=0.0)\n",
    "    model.compile(loss='binary_crossentropy',\n",
    "                  optimizer=mypotim,\n",
    "                  metrics=['accuracy'])\n",
    "    model.summary()\n",
    "    return model"
   ]
  },
  {
   "cell_type": "code",
   "execution_count": 13,
   "metadata": {
    "ExecuteTime": {
     "end_time": "2017-12-25T17:38:18.542547Z",
     "start_time": "2017-12-25T17:38:18.533023Z"
    },
    "collapsed": true
   },
   "outputs": [],
   "source": [
    "def get_callbacks(filepath, patience=2):\n",
    "    es = EarlyStopping('val_loss', patience=patience, mode=\"min\")\n",
    "    reduce_lr_loss = ReduceLROnPlateau(monitor='val_loss', factor=0.1, patience=7, verbose=1, epsilon=1e-4, mode='min')\n",
    "    msave = ModelCheckpoint(filepath, save_best_only=True)\n",
    "    return [msave,reduce_lr_loss, es]\n",
    "file_path = \".model_weights.hdf5\"\n",
    "callbacks = get_callbacks(filepath=file_path, patience=5)"
   ]
  },
  {
   "cell_type": "code",
   "execution_count": 14,
   "metadata": {
    "ExecuteTime": {
     "end_time": "2017-12-25T17:38:25.851329Z",
     "start_time": "2017-12-25T17:38:25.581160Z"
    },
    "collapsed": true
   },
   "outputs": [],
   "source": []
  },
  {
   "cell_type": "code",
   "execution_count": null,
   "metadata": {
    "collapsed": true
   },
   "outputs": [],
   "source": []
  },
  {
   "cell_type": "code",
   "execution_count": 18,
   "metadata": {
    "ExecuteTime": {
     "end_time": "2017-12-22T20:38:35.479033Z",
     "start_time": "2017-12-22T20:31:22.274180Z"
    }
   },
   "outputs": [
    {
     "name": "stdout",
     "output_type": "stream",
     "text": [
      "_________________________________________________________________\n",
      "Layer (type)                 Output Shape              Param #   \n",
      "=================================================================\n",
      "conv2d_5 (Conv2D)            (None, 73, 73, 64)        1792      \n",
      "_________________________________________________________________\n",
      "batch_normalization_7 (Batch (None, 73, 73, 64)        256       \n",
      "_________________________________________________________________\n",
      "max_pooling2d_5 (MaxPooling2 (None, 36, 36, 64)        0         \n",
      "_________________________________________________________________\n",
      "dropout_7 (Dropout)          (None, 36, 36, 64)        0         \n",
      "_________________________________________________________________\n",
      "conv2d_6 (Conv2D)            (None, 34, 34, 128)       73856     \n",
      "_________________________________________________________________\n",
      "batch_normalization_8 (Batch (None, 34, 34, 128)       512       \n",
      "_________________________________________________________________\n",
      "max_pooling2d_6 (MaxPooling2 (None, 17, 17, 128)       0         \n",
      "_________________________________________________________________\n",
      "dropout_8 (Dropout)          (None, 17, 17, 128)       0         \n",
      "_________________________________________________________________\n",
      "conv2d_7 (Conv2D)            (None, 15, 15, 128)       147584    \n",
      "_________________________________________________________________\n",
      "batch_normalization_9 (Batch (None, 15, 15, 128)       512       \n",
      "_________________________________________________________________\n",
      "max_pooling2d_7 (MaxPooling2 (None, 7, 7, 128)         0         \n",
      "_________________________________________________________________\n",
      "dropout_9 (Dropout)          (None, 7, 7, 128)         0         \n",
      "_________________________________________________________________\n",
      "conv2d_8 (Conv2D)            (None, 5, 5, 64)          73792     \n",
      "_________________________________________________________________\n",
      "batch_normalization_10 (Batc (None, 5, 5, 64)          256       \n",
      "_________________________________________________________________\n",
      "max_pooling2d_8 (MaxPooling2 (None, 2, 2, 64)          0         \n",
      "_________________________________________________________________\n",
      "dropout_10 (Dropout)         (None, 2, 2, 64)          0         \n",
      "_________________________________________________________________\n",
      "flatten_2 (Flatten)          (None, 256)               0         \n",
      "_________________________________________________________________\n",
      "dense_4 (Dense)              (None, 512)               131584    \n",
      "_________________________________________________________________\n",
      "activation_4 (Activation)    (None, 512)               0         \n",
      "_________________________________________________________________\n",
      "batch_normalization_11 (Batc (None, 512)               2048      \n",
      "_________________________________________________________________\n",
      "dropout_11 (Dropout)         (None, 512)               0         \n",
      "_________________________________________________________________\n",
      "dense_5 (Dense)              (None, 256)               131328    \n",
      "_________________________________________________________________\n",
      "activation_5 (Activation)    (None, 256)               0         \n",
      "_________________________________________________________________\n",
      "batch_normalization_12 (Batc (None, 256)               1024      \n",
      "_________________________________________________________________\n",
      "dropout_12 (Dropout)         (None, 256)               0         \n",
      "_________________________________________________________________\n",
      "dense_6 (Dense)              (None, 1)                 257       \n",
      "_________________________________________________________________\n",
      "activation_6 (Activation)    (None, 1)                 0         \n",
      "=================================================================\n",
      "Total params: 564,801\n",
      "Trainable params: 562,497\n",
      "Non-trainable params: 2,304\n",
      "_________________________________________________________________\n",
      "Epoch 1/50\n",
      "201/200 [==============================] - 10s 51ms/step - loss: 0.5499 - acc: 0.7372 - val_loss: 1.4525 - val_acc: 0.5312\n",
      "Epoch 2/50\n",
      "201/200 [==============================] - 8s 42ms/step - loss: 0.4212 - acc: 0.8001 - val_loss: 2.3606 - val_acc: 0.5305\n",
      "Epoch 3/50\n",
      "201/200 [==============================] - 8s 41ms/step - loss: 0.3924 - acc: 0.8159 - val_loss: 1.4000 - val_acc: 0.5356\n",
      "Epoch 4/50\n",
      "201/200 [==============================] - 8s 42ms/step - loss: 0.3826 - acc: 0.8215 - val_loss: 0.4367 - val_acc: 0.8092\n",
      "Epoch 5/50\n",
      "201/200 [==============================] - 8s 42ms/step - loss: 0.3639 - acc: 0.8252 - val_loss: 0.5095 - val_acc: 0.7405\n",
      "Epoch 6/50\n",
      "201/200 [==============================] - 8s 42ms/step - loss: 0.3630 - acc: 0.8260 - val_loss: 0.4293 - val_acc: 0.8111\n",
      "Epoch 7/50\n",
      "201/200 [==============================] - 8s 42ms/step - loss: 0.3418 - acc: 0.8411 - val_loss: 0.4064 - val_acc: 0.8047\n",
      "Epoch 8/50\n",
      "201/200 [==============================] - 8s 42ms/step - loss: 0.3339 - acc: 0.8461 - val_loss: 0.3835 - val_acc: 0.8041\n",
      "Epoch 9/50\n",
      "201/200 [==============================] - 8s 42ms/step - loss: 0.3271 - acc: 0.8511 - val_loss: 0.5154 - val_acc: 0.7303\n",
      "Epoch 10/50\n",
      "201/200 [==============================] - 9s 45ms/step - loss: 0.3359 - acc: 0.8444 - val_loss: 0.3064 - val_acc: 0.8702\n",
      "Epoch 11/50\n",
      "201/200 [==============================] - 8s 42ms/step - loss: 0.3148 - acc: 0.8543 - val_loss: 0.4414 - val_acc: 0.8142\n",
      "Epoch 12/50\n",
      "201/200 [==============================] - 8s 42ms/step - loss: 0.3109 - acc: 0.8570 - val_loss: 0.3724 - val_acc: 0.8282\n",
      "Epoch 13/50\n",
      "201/200 [==============================] - 8s 42ms/step - loss: 0.3117 - acc: 0.8599 - val_loss: 0.5261 - val_acc: 0.7373\n",
      "Epoch 14/50\n",
      "201/200 [==============================] - 9s 46ms/step - loss: 0.3016 - acc: 0.8679 - val_loss: 0.2831 - val_acc: 0.8823\n",
      "Epoch 15/50\n",
      "201/200 [==============================] - 8s 42ms/step - loss: 0.3210 - acc: 0.8592 - val_loss: 0.3530 - val_acc: 0.8257\n",
      "Epoch 16/50\n",
      "201/200 [==============================] - 8s 42ms/step - loss: 0.3038 - acc: 0.8642 - val_loss: 0.6202 - val_acc: 0.7265\n",
      "Epoch 17/50\n",
      "201/200 [==============================] - 8s 42ms/step - loss: 0.2916 - acc: 0.8700 - val_loss: 0.7902 - val_acc: 0.7029\n",
      "Epoch 18/50\n",
      "201/200 [==============================] - 9s 45ms/step - loss: 0.2972 - acc: 0.8727 - val_loss: 0.2502 - val_acc: 0.8969\n",
      "Epoch 19/50\n",
      "201/200 [==============================] - 8s 41ms/step - loss: 0.2941 - acc: 0.8761 - val_loss: 0.2848 - val_acc: 0.8721\n",
      "Epoch 20/50\n",
      "201/200 [==============================] - 8s 42ms/step - loss: 0.2944 - acc: 0.8743 - val_loss: 0.3947 - val_acc: 0.8314\n",
      "Epoch 21/50\n",
      "201/200 [==============================] - 8s 42ms/step - loss: 0.2929 - acc: 0.8751 - val_loss: 0.3831 - val_acc: 0.8314\n",
      "Epoch 22/50\n",
      "201/200 [==============================] - 8s 42ms/step - loss: 0.2930 - acc: 0.8721 - val_loss: 0.5752 - val_acc: 0.7634\n",
      "Epoch 23/50\n",
      "201/200 [==============================] - 8s 41ms/step - loss: 0.2853 - acc: 0.8757 - val_loss: 0.3290 - val_acc: 0.8473\n",
      "Epoch 24/50\n",
      "200/200 [============================>.] - ETA: 0s - loss: 0.2800 - acc: 0.8827\n",
      "Epoch 00024: reducing learning rate to 0.00010000000474974513.\n",
      "201/200 [==============================] - 8s 42ms/step - loss: 0.2799 - acc: 0.8825 - val_loss: 0.3062 - val_acc: 0.8658\n",
      "Epoch 25/50\n",
      "201/200 [==============================] - 9s 46ms/step - loss: 0.2667 - acc: 0.8904 - val_loss: 0.2417 - val_acc: 0.8963\n",
      "Epoch 26/50\n",
      "201/200 [==============================] - 9s 47ms/step - loss: 0.2551 - acc: 0.8943 - val_loss: 0.2244 - val_acc: 0.9167\n",
      "Epoch 27/50\n",
      "201/200 [==============================] - 9s 46ms/step - loss: 0.2457 - acc: 0.8952 - val_loss: 0.2157 - val_acc: 0.9167\n",
      "Epoch 28/50\n",
      "201/200 [==============================] - 8s 42ms/step - loss: 0.2407 - acc: 0.8995 - val_loss: 0.2274 - val_acc: 0.9109\n",
      "Epoch 29/50\n",
      "201/200 [==============================] - 8s 42ms/step - loss: 0.2447 - acc: 0.8964 - val_loss: 0.2350 - val_acc: 0.9065\n",
      "Epoch 30/50\n",
      "201/200 [==============================] - 8s 42ms/step - loss: 0.2382 - acc: 0.8996 - val_loss: 0.2260 - val_acc: 0.9192\n",
      "Epoch 31/50\n",
      "201/200 [==============================] - 8s 42ms/step - loss: 0.2537 - acc: 0.8932 - val_loss: 0.2167 - val_acc: 0.9186\n"
     ]
    },
    {
     "name": "stdout",
     "output_type": "stream",
     "text": [
      "Epoch 32/50\n",
      "201/200 [==============================] - 9s 44ms/step - loss: 0.2306 - acc: 0.9070 - val_loss: 0.2136 - val_acc: 0.9141\n",
      "Epoch 33/50\n",
      "201/200 [==============================] - 8s 41ms/step - loss: 0.2429 - acc: 0.8991 - val_loss: 0.2308 - val_acc: 0.9116\n",
      "Epoch 34/50\n",
      "201/200 [==============================] - 8s 41ms/step - loss: 0.2339 - acc: 0.9012 - val_loss: 0.2206 - val_acc: 0.9052\n",
      "Epoch 35/50\n",
      "201/200 [==============================] - 9s 45ms/step - loss: 0.2455 - acc: 0.8987 - val_loss: 0.2087 - val_acc: 0.9186\n",
      "Epoch 36/50\n",
      "201/200 [==============================] - 8s 41ms/step - loss: 0.2351 - acc: 0.9041 - val_loss: 0.2280 - val_acc: 0.9059\n",
      "Epoch 37/50\n",
      "201/200 [==============================] - 8s 41ms/step - loss: 0.2371 - acc: 0.9054 - val_loss: 0.2143 - val_acc: 0.9167\n",
      "Epoch 38/50\n",
      "201/200 [==============================] - 9s 46ms/step - loss: 0.2361 - acc: 0.9024 - val_loss: 0.2026 - val_acc: 0.9249\n",
      "Epoch 39/50\n",
      "201/200 [==============================] - 9s 45ms/step - loss: 0.2309 - acc: 0.9058 - val_loss: 0.2024 - val_acc: 0.9224\n",
      "Epoch 40/50\n",
      "201/200 [==============================] - 8s 41ms/step - loss: 0.2318 - acc: 0.9065 - val_loss: 0.2222 - val_acc: 0.9109\n",
      "Epoch 41/50\n",
      "201/200 [==============================] - 8s 41ms/step - loss: 0.2306 - acc: 0.9052 - val_loss: 0.2202 - val_acc: 0.9071\n",
      "Epoch 42/50\n",
      "201/200 [==============================] - 8s 42ms/step - loss: 0.2319 - acc: 0.9054 - val_loss: 0.2060 - val_acc: 0.9218\n",
      "Epoch 43/50\n",
      "201/200 [==============================] - 8s 41ms/step - loss: 0.2347 - acc: 0.9040 - val_loss: 0.2124 - val_acc: 0.9141\n",
      "Epoch 44/50\n",
      "201/200 [==============================] - 8s 42ms/step - loss: 0.2317 - acc: 0.9026 - val_loss: 0.2057 - val_acc: 0.9179\n",
      "Epoch 45/50\n",
      "201/200 [==============================] - 9s 45ms/step - loss: 0.2256 - acc: 0.9044 - val_loss: 0.1993 - val_acc: 0.9268\n",
      "Epoch 46/50\n",
      "201/200 [==============================] - 8s 42ms/step - loss: 0.2260 - acc: 0.9085 - val_loss: 0.2063 - val_acc: 0.9211\n",
      "Epoch 47/50\n",
      "201/200 [==============================] - 9s 46ms/step - loss: 0.2295 - acc: 0.9028 - val_loss: 0.1991 - val_acc: 0.9218\n",
      "Epoch 48/50\n",
      "201/200 [==============================] - 9s 46ms/step - loss: 0.2224 - acc: 0.9093 - val_loss: 0.1944 - val_acc: 0.9243\n",
      "Epoch 49/50\n",
      "201/200 [==============================] - 8s 41ms/step - loss: 0.2203 - acc: 0.9115 - val_loss: 0.2289 - val_acc: 0.9090\n",
      "Epoch 50/50\n",
      "201/200 [==============================] - 8s 41ms/step - loss: 0.2275 - acc: 0.9028 - val_loss: 0.2007 - val_acc: 0.9211\n"
     ]
    }
   ],
   "source": [
    "import os\n",
    "\n",
    "gmodel=getModel()\n",
    "\n",
    "history = gmodel.fit_generator(gen_train_flow, \n",
    "                               validation_data=gen_valid_flow, \n",
    "                               steps_per_epoch=len(X_images) / batch_size, \n",
    "                               epochs=50,validation_steps=50, \n",
    "                               #callbacks=[ModelCheckpoint(file_path, save_best_only=True)])\n",
    "                               callbacks = callbacks)"
   ]
  },
  {
   "cell_type": "code",
   "execution_count": 34,
   "metadata": {
    "ExecuteTime": {
     "end_time": "2017-12-22T20:54:33.696883Z",
     "start_time": "2017-12-22T20:47:53.500296Z"
    }
   },
   "outputs": [
    {
     "name": "stdout",
     "output_type": "stream",
     "text": [
      "_________________________________________________________________\n",
      "Layer (type)                 Output Shape              Param #   \n",
      "=================================================================\n",
      "lambda_6 (Lambda)            (None, 75, 75, 3)         0         \n",
      "_________________________________________________________________\n",
      "zero_padding2d_21 (ZeroPaddi (None, 77, 77, 3)         0         \n",
      "_________________________________________________________________\n",
      "conv2d_29 (Conv2D)           (None, 75, 75, 32)        896       \n",
      "_________________________________________________________________\n",
      "batch_normalization_29 (Batc (None, 75, 75, 32)        128       \n",
      "_________________________________________________________________\n",
      "max_pooling2d_25 (MaxPooling (None, 37, 37, 32)        0         \n",
      "_________________________________________________________________\n",
      "zero_padding2d_22 (ZeroPaddi (None, 39, 39, 32)        0         \n",
      "_________________________________________________________________\n",
      "conv2d_30 (Conv2D)           (None, 37, 37, 64)        18496     \n",
      "_________________________________________________________________\n",
      "batch_normalization_30 (Batc (None, 37, 37, 64)        256       \n",
      "_________________________________________________________________\n",
      "max_pooling2d_26 (MaxPooling (None, 18, 18, 64)        0         \n",
      "_________________________________________________________________\n",
      "zero_padding2d_23 (ZeroPaddi (None, 20, 20, 64)        0         \n",
      "_________________________________________________________________\n",
      "conv2d_31 (Conv2D)           (None, 18, 18, 128)       73856     \n",
      "_________________________________________________________________\n",
      "batch_normalization_31 (Batc (None, 18, 18, 128)       512       \n",
      "_________________________________________________________________\n",
      "max_pooling2d_27 (MaxPooling (None, 9, 9, 128)         0         \n",
      "_________________________________________________________________\n",
      "zero_padding2d_24 (ZeroPaddi (None, 11, 11, 128)       0         \n",
      "_________________________________________________________________\n",
      "conv2d_32 (Conv2D)           (None, 9, 9, 128)         147584    \n",
      "_________________________________________________________________\n",
      "batch_normalization_32 (Batc (None, 9, 9, 128)         512       \n",
      "_________________________________________________________________\n",
      "max_pooling2d_28 (MaxPooling (None, 4, 4, 128)         0         \n",
      "_________________________________________________________________\n",
      "zero_padding2d_25 (ZeroPaddi (None, 6, 6, 128)         0         \n",
      "_________________________________________________________________\n",
      "conv2d_33 (Conv2D)           (None, 4, 4, 2)           2306      \n",
      "_________________________________________________________________\n",
      "global_average_pooling2d_5 ( (None, 2)                 0         \n",
      "_________________________________________________________________\n",
      "dense_8 (Dense)              (None, 1)                 3         \n",
      "_________________________________________________________________\n",
      "activation_11 (Activation)   (None, 1)                 0         \n",
      "=================================================================\n",
      "Total params: 244,549\n",
      "Trainable params: 243,845\n",
      "Non-trainable params: 704\n",
      "_________________________________________________________________\n",
      "Epoch 1/50\n",
      "201/200 [==============================] - 12s 62ms/step - loss: 0.4541 - acc: 0.7708 - val_loss: 2.1568 - val_acc: 0.5324\n",
      "Epoch 2/50\n",
      "201/200 [==============================] - 8s 41ms/step - loss: 0.3702 - acc: 0.8207 - val_loss: 0.8976 - val_acc: 0.5369\n",
      "Epoch 3/50\n",
      "201/200 [==============================] - 8s 38ms/step - loss: 0.3441 - acc: 0.8382 - val_loss: 0.9606 - val_acc: 0.6559\n",
      "Epoch 4/50\n",
      "201/200 [==============================] - 8s 40ms/step - loss: 0.3233 - acc: 0.8492 - val_loss: 0.3463 - val_acc: 0.8575\n",
      "Epoch 5/50\n",
      "201/200 [==============================] - 8s 38ms/step - loss: 0.3222 - acc: 0.8465 - val_loss: 0.4414 - val_acc: 0.7933\n",
      "Epoch 6/50\n",
      "201/200 [==============================] - 8s 38ms/step - loss: 0.3022 - acc: 0.8587 - val_loss: 1.6568 - val_acc: 0.6183\n",
      "Epoch 7/50\n",
      "201/200 [==============================] - 8s 38ms/step - loss: 0.2991 - acc: 0.8610 - val_loss: 0.5351 - val_acc: 0.7723\n",
      "Epoch 8/50\n",
      "201/200 [==============================] - 8s 39ms/step - loss: 0.2873 - acc: 0.8666 - val_loss: 0.6192 - val_acc: 0.6686\n",
      "Epoch 9/50\n",
      "201/200 [==============================] - 8s 39ms/step - loss: 0.2880 - acc: 0.8633 - val_loss: 0.4245 - val_acc: 0.8003\n",
      "Epoch 10/50\n",
      "201/200 [==============================] - 8s 38ms/step - loss: 0.2801 - acc: 0.8707 - val_loss: 0.3513 - val_acc: 0.8244\n",
      "Epoch 11/50\n",
      "201/200 [==============================] - 8s 39ms/step - loss: 0.2833 - acc: 0.8705 - val_loss: 0.4620 - val_acc: 0.7831\n",
      "Epoch 12/50\n",
      "201/200 [==============================] - 9s 43ms/step - loss: 0.2753 - acc: 0.8747 - val_loss: 0.2927 - val_acc: 0.8645\n",
      "Epoch 13/50\n",
      "201/200 [==============================] - 9s 42ms/step - loss: 0.2624 - acc: 0.8800 - val_loss: 0.2744 - val_acc: 0.8702\n",
      "Epoch 14/50\n",
      "201/200 [==============================] - 9s 42ms/step - loss: 0.2573 - acc: 0.8853 - val_loss: 0.2637 - val_acc: 0.8861\n",
      "Epoch 15/50\n",
      "201/200 [==============================] - 8s 40ms/step - loss: 0.2485 - acc: 0.8921 - val_loss: 0.2892 - val_acc: 0.8511\n",
      "Epoch 16/50\n",
      "201/200 [==============================] - 8s 39ms/step - loss: 0.2548 - acc: 0.8876 - val_loss: 0.7422 - val_acc: 0.7824\n",
      "Epoch 17/50\n",
      "201/200 [==============================] - 8s 39ms/step - loss: 0.2498 - acc: 0.8911 - val_loss: 0.2975 - val_acc: 0.8721\n",
      "Epoch 18/50\n",
      "201/200 [==============================] - 8s 41ms/step - loss: 0.2359 - acc: 0.9039 - val_loss: 0.2425 - val_acc: 0.8950\n",
      "Epoch 19/50\n",
      "201/200 [==============================] - 8s 39ms/step - loss: 0.2367 - acc: 0.9030 - val_loss: 0.4280 - val_acc: 0.8174\n",
      "Epoch 20/50\n",
      "201/200 [==============================] - 8s 39ms/step - loss: 0.2312 - acc: 0.9025 - val_loss: 0.3660 - val_acc: 0.8352\n",
      "Epoch 21/50\n",
      "201/200 [==============================] - 8s 38ms/step - loss: 0.2303 - acc: 0.9013 - val_loss: 0.2984 - val_acc: 0.8715\n",
      "Epoch 22/50\n",
      "201/200 [==============================] - 8s 38ms/step - loss: 0.2208 - acc: 0.9078 - val_loss: 0.2503 - val_acc: 0.8906\n",
      "Epoch 23/50\n",
      "201/200 [==============================] - 8s 38ms/step - loss: 0.2310 - acc: 0.9028 - val_loss: 0.4587 - val_acc: 0.7831\n",
      "Epoch 24/50\n",
      "201/200 [==============================] - 8s 41ms/step - loss: 0.2185 - acc: 0.9080 - val_loss: 0.4244 - val_acc: 0.8314\n",
      "Epoch 25/50\n",
      "201/200 [==============================] - 8s 39ms/step - loss: 0.2180 - acc: 0.9086 - val_loss: 0.2839 - val_acc: 0.8721\n",
      "Epoch 26/50\n",
      "201/200 [==============================] - 8s 39ms/step - loss: 0.2113 - acc: 0.9136 - val_loss: 0.2136 - val_acc: 0.9128\n",
      "Epoch 27/50\n",
      "201/200 [==============================] - 8s 38ms/step - loss: 0.2134 - acc: 0.9097 - val_loss: 0.2518 - val_acc: 0.8887\n",
      "Epoch 28/50\n",
      "201/200 [==============================] - 8s 39ms/step - loss: 0.2064 - acc: 0.9136 - val_loss: 0.2842 - val_acc: 0.8849\n",
      "Epoch 29/50\n",
      "201/200 [==============================] - 8s 40ms/step - loss: 0.2084 - acc: 0.9155 - val_loss: 0.3226 - val_acc: 0.8785\n",
      "Epoch 30/50\n",
      "201/200 [==============================] - 8s 39ms/step - loss: 0.2049 - acc: 0.9156 - val_loss: 0.3212 - val_acc: 0.8785\n",
      "Epoch 31/50\n",
      "201/200 [==============================] - 8s 39ms/step - loss: 0.2093 - acc: 0.9141 - val_loss: 0.2265 - val_acc: 0.9033\n",
      "Epoch 32/50\n",
      "201/200 [==============================] - 8s 39ms/step - loss: 0.1967 - acc: 0.9207 - val_loss: 0.2358 - val_acc: 0.9014\n",
      "Epoch 33/50\n",
      "201/200 [==============================] - 8s 39ms/step - loss: 0.1900 - acc: 0.9231 - val_loss: 0.2253 - val_acc: 0.9065\n",
      "Epoch 34/50\n",
      "201/200 [==============================] - 8s 42ms/step - loss: 0.1950 - acc: 0.9168 - val_loss: 0.2016 - val_acc: 0.9173\n",
      "Epoch 35/50\n",
      "201/200 [==============================] - 8s 38ms/step - loss: 0.1929 - acc: 0.9175 - val_loss: 0.2651 - val_acc: 0.8963\n",
      "Epoch 36/50\n",
      "201/200 [==============================] - 8s 38ms/step - loss: 0.1924 - acc: 0.9220 - val_loss: 0.2400 - val_acc: 0.9065\n",
      "Epoch 37/50\n",
      "201/200 [==============================] - 8s 38ms/step - loss: 0.1822 - acc: 0.9217 - val_loss: 0.2972 - val_acc: 0.8651\n",
      "Epoch 38/50\n"
     ]
    },
    {
     "name": "stdout",
     "output_type": "stream",
     "text": [
      "201/200 [==============================] - 8s 38ms/step - loss: 0.1864 - acc: 0.9219 - val_loss: 0.2381 - val_acc: 0.9071\n",
      "Epoch 39/50\n",
      "201/200 [==============================] - 8s 41ms/step - loss: 0.1815 - acc: 0.9253 - val_loss: 0.2001 - val_acc: 0.9173\n",
      "Epoch 40/50\n",
      "201/200 [==============================] - 8s 38ms/step - loss: 0.1848 - acc: 0.9257 - val_loss: 0.2489 - val_acc: 0.8919\n",
      "Epoch 41/50\n",
      "201/200 [==============================] - 8s 38ms/step - loss: 0.1750 - acc: 0.9303 - val_loss: 0.2851 - val_acc: 0.8836\n",
      "Epoch 42/50\n",
      "201/200 [==============================] - 8s 38ms/step - loss: 0.1699 - acc: 0.9284 - val_loss: 0.2538 - val_acc: 0.9059\n",
      "Epoch 43/50\n",
      "201/200 [==============================] - 8s 38ms/step - loss: 0.1799 - acc: 0.9246 - val_loss: 0.2229 - val_acc: 0.8995\n",
      "Epoch 44/50\n",
      "201/200 [==============================] - 8s 38ms/step - loss: 0.1644 - acc: 0.9299 - val_loss: 0.3845 - val_acc: 0.8670\n",
      "Epoch 45/50\n",
      "201/200 [==============================] - 8s 38ms/step - loss: 0.1761 - acc: 0.9255 - val_loss: 0.2823 - val_acc: 0.8772\n",
      "Epoch 46/50\n",
      "201/200 [==============================] - 8s 38ms/step - loss: 0.1614 - acc: 0.9359 - val_loss: 0.4470 - val_acc: 0.7990\n",
      "Epoch 47/50\n",
      "199/200 [============================>.] - ETA: 0s - loss: 0.1763 - acc: 0.9289\n",
      "Epoch 00047: reducing learning rate to 0.00010000000474974513.\n",
      "201/200 [==============================] - 8s 39ms/step - loss: 0.1755 - acc: 0.9295 - val_loss: 0.2283 - val_acc: 0.9084\n",
      "Epoch 48/50\n",
      "201/200 [==============================] - 8s 41ms/step - loss: 0.1421 - acc: 0.9455 - val_loss: 0.1494 - val_acc: 0.9421\n",
      "Epoch 49/50\n",
      "201/200 [==============================] - 8s 41ms/step - loss: 0.1278 - acc: 0.9501 - val_loss: 0.1399 - val_acc: 0.9427\n",
      "Epoch 50/50\n",
      "201/200 [==============================] - 8s 38ms/step - loss: 0.1367 - acc: 0.9455 - val_loss: 0.1464 - val_acc: 0.9434\n"
     ]
    }
   ],
   "source": [
    "# Create the model and compile\n",
    "model = create_model()\n",
    "\n",
    "history = model.fit_generator(gen_train_flow, \n",
    "                               validation_data=gen_valid_flow, \n",
    "                               steps_per_epoch=len(X_images) / batch_size, \n",
    "                               epochs=50,validation_steps=50, \n",
    "                               #callbacks=[ModelCheckpoint(file_path, save_best_only=True)])\n",
    "                               callbacks = callbacks)"
   ]
  },
  {
   "cell_type": "code",
   "execution_count": 35,
   "metadata": {
    "ExecuteTime": {
     "end_time": "2017-12-22T20:55:24.491079Z",
     "start_time": "2017-12-22T20:55:24.292081Z"
    }
   },
   "outputs": [
    {
     "data": {
      "image/png": "[encoded data removed]",
      "text/plain": [
       "<matplotlib.figure.Figure at 0x27c185274a8>"
      ]
     },
     "metadata": {},
     "output_type": "display_data"
    },
    {
     "data": {
      "image/png": "[encoded data removed]",
      "text/plain": [
       "<matplotlib.figure.Figure at 0x27c2d7046d8>"
      ]
     },
     "metadata": {},
     "output_type": "display_data"
    }
   ],
   "source": [
    "import matplotlib.pyplot as plt\n",
    "\n",
    "acc = history.history['acc']\n",
    "val_acc = history.history['val_acc']\n",
    "loss = history.history['loss']\n",
    "val_loss = history.history['val_loss']\n",
    "\n",
    "epochs = range(len(acc))\n",
    "\n",
    "plt.plot(epochs, acc, 'bo', label='Training acc')\n",
    "plt.plot(epochs, val_acc, 'b', label='Validation acc')\n",
    "plt.title('Training and validation accuracy')\n",
    "plt.legend()\n",
    "\n",
    "plt.figure()\n",
    "\n",
    "plt.plot(epochs, loss, 'bo', label='Training loss')\n",
    "plt.plot(epochs, val_loss, 'b', label='Validation loss')\n",
    "plt.title('Training and validation loss')\n",
    "plt.legend()\n",
    "\n",
    "plt.show()"
   ]
  },
  {
   "cell_type": "code",
   "execution_count": 20,
   "metadata": {
    "ExecuteTime": {
     "end_time": "2017-12-22T20:38:57.257968Z",
     "start_time": "2017-12-22T20:38:56.290309Z"
    }
   },
   "outputs": [
    {
     "name": "stdout",
     "output_type": "stream",
     "text": [
      "1604/1604 [==============================] - 1s 455us/step\n",
      "Test loss: 0.176434441175\n",
      "Test accuracy: 0.93578553616\n"
     ]
    }
   ],
   "source": [
    "#Baseline CNN\n",
    "gmodel.load_weights(filepath=file_path)\n",
    "score = gmodel.evaluate(X_valid, y_valid, verbose=1)\n",
    "print('Test loss:', score[0])\n",
    "print('Test accuracy:', score[1])"
   ]
  },
  {
   "cell_type": "code",
   "execution_count": 19,
   "metadata": {
    "ExecuteTime": {
     "end_time": "2017-12-23T23:20:30.894574Z",
     "start_time": "2017-12-23T23:20:23.939506Z"
    }
   },
   "outputs": [
    {
     "name": "stdout",
     "output_type": "stream",
     "text": [
      "_________________________________________________________________\n",
      "Layer (type)                 Output Shape              Param #   \n",
      "=================================================================\n",
      "lambda_2 (Lambda)            (None, 75, 75, 3)         0         \n",
      "_________________________________________________________________\n",
      "zero_padding2d_6 (ZeroPaddin (None, 77, 77, 3)         0         \n",
      "_________________________________________________________________\n",
      "conv2d_6 (Conv2D)            (None, 75, 75, 32)        896       \n",
      "_________________________________________________________________\n",
      "batch_normalization_5 (Batch (None, 75, 75, 32)        128       \n",
      "_________________________________________________________________\n",
      "max_pooling2d_5 (MaxPooling2 (None, 37, 37, 32)        0         \n",
      "_________________________________________________________________\n",
      "zero_padding2d_7 (ZeroPaddin (None, 39, 39, 32)        0         \n",
      "_________________________________________________________________\n",
      "conv2d_7 (Conv2D)            (None, 37, 37, 64)        18496     \n",
      "_________________________________________________________________\n",
      "batch_normalization_6 (Batch (None, 37, 37, 64)        256       \n",
      "_________________________________________________________________\n",
      "max_pooling2d_6 (MaxPooling2 (None, 18, 18, 64)        0         \n",
      "_________________________________________________________________\n",
      "zero_padding2d_8 (ZeroPaddin (None, 20, 20, 64)        0         \n",
      "_________________________________________________________________\n",
      "conv2d_8 (Conv2D)            (None, 18, 18, 128)       73856     \n",
      "_________________________________________________________________\n",
      "batch_normalization_7 (Batch (None, 18, 18, 128)       512       \n",
      "_________________________________________________________________\n",
      "max_pooling2d_7 (MaxPooling2 (None, 9, 9, 128)         0         \n",
      "_________________________________________________________________\n",
      "zero_padding2d_9 (ZeroPaddin (None, 11, 11, 128)       0         \n",
      "_________________________________________________________________\n",
      "conv2d_9 (Conv2D)            (None, 9, 9, 128)         147584    \n",
      "_________________________________________________________________\n",
      "batch_normalization_8 (Batch (None, 9, 9, 128)         512       \n",
      "_________________________________________________________________\n",
      "max_pooling2d_8 (MaxPooling2 (None, 4, 4, 128)         0         \n",
      "_________________________________________________________________\n",
      "zero_padding2d_10 (ZeroPaddi (None, 6, 6, 128)         0         \n",
      "_________________________________________________________________\n",
      "conv2d_10 (Conv2D)           (None, 4, 4, 2)           2306      \n",
      "_________________________________________________________________\n",
      "global_average_pooling2d_2 ( (None, 2)                 0         \n",
      "_________________________________________________________________\n",
      "dense_2 (Dense)              (None, 1)                 3         \n",
      "_________________________________________________________________\n",
      "activation_2 (Activation)    (None, 1)                 0         \n",
      "=================================================================\n",
      "Total params: 244,549\n",
      "Trainable params: 243,845\n",
      "Non-trainable params: 704\n",
      "_________________________________________________________________\n",
      "1604/1604 [==============================] - 6s 3ms/step\n",
      "Test loss: 0.118484003009\n",
      "Test accuracy: 0.955735660848\n"
     ]
    }
   ],
   "source": [
    "#FCN\n",
    "\n",
    "model = create_model()\n",
    "\n",
    "model.load_weights(filepath=file_path)\n",
    "score = model.evaluate(X_valid, y_valid, verbose=1)\n",
    "print('Test loss:', score[0])\n",
    "print('Test accuracy:', score[1])"
   ]
  },
  {
   "cell_type": "markdown",
   "metadata": {},
   "source": [
    "### Predict"
   ]
  },
  {
   "cell_type": "code",
   "execution_count": 37,
   "metadata": {
    "ExecuteTime": {
     "end_time": "2017-12-22T20:57:01.398678Z",
     "start_time": "2017-12-22T20:56:50.820286Z"
    }
   },
   "outputs": [
    {
     "name": "stdout",
     "output_type": "stream",
     "text": [
      "Denoising and reshaping\n",
      "RGB done\n"
     ]
    }
   ],
   "source": [
    "_, X_test_b, X_test_images = create_dataset(test, False)\n",
    "#X_test_images = augment(X_test_images)"
   ]
  },
  {
   "cell_type": "code",
   "execution_count": 39,
   "metadata": {
    "ExecuteTime": {
     "end_time": "2017-12-22T20:58:11.682754Z",
     "start_time": "2017-12-22T20:58:08.076986Z"
    }
   },
   "outputs": [
    {
     "name": "stdout",
     "output_type": "stream",
     "text": [
      "8424/8424 [==============================] - 4s 423us/step\n"
     ]
    }
   ],
   "source": [
    "predicted_test=gmodel.predict_proba(X_test_images)\n",
    "submission = pd.DataFrame()\n",
    "submission['id']=test['id']\n",
    "submission['is_iceberg']=predicted_test.reshape((predicted_test.shape[0]))\n",
    "submission.to_csv('Baseline2_CNN.csv', index=False)"
   ]
  },
  {
   "cell_type": "code",
   "execution_count": 40,
   "metadata": {
    "ExecuteTime": {
     "end_time": "2017-12-22T20:58:18.301164Z",
     "start_time": "2017-12-22T20:58:15.436981Z"
    }
   },
   "outputs": [
    {
     "name": "stdout",
     "output_type": "stream",
     "text": [
      "8424/8424 [==============================] - 3s 335us/step\n"
     ]
    }
   ],
   "source": [
    "model = create_model()\n",
    "\n",
    "predicted_test=model.predict_proba(X_test_images)\n",
    "submission = pd.DataFrame()\n",
    "submission['id']=test['id']\n",
    "submission['is_iceberg']=predicted_test.reshape((predicted_test.shape[0]))\n",
    "submission.to_csv('FCN.csv', index=False)"
   ]
  },
  {
   "cell_type": "code",
   "execution_count": 1,
   "metadata": {
    "ExecuteTime": {
     "end_time": "2017-12-24T16:52:22.644870Z",
     "start_time": "2017-12-24T16:52:04.680180Z"
    }
   },
   "outputs": [
    {
     "ename": "KeyboardInterrupt",
     "evalue": "",
     "output_type": "error",
     "traceback": [
      "\u001b[1;31m---------------------------------------------------------------------------\u001b[0m",
      "\u001b[1;31mKeyboardInterrupt\u001b[0m                         Traceback (most recent call last)",
      "\u001b[1;32m<ipython-input-1-834f77076372>\u001b[0m in \u001b[0;36m<module>\u001b[1;34m()\u001b[0m\n\u001b[1;32m----> 1\u001b[1;33m \u001b[1;32mimport\u001b[0m \u001b[0mtensorflow\u001b[0m \u001b[1;32mas\u001b[0m \u001b[0mtf\u001b[0m\u001b[1;33m\u001b[0m\u001b[0m\n\u001b[0m\u001b[0;32m      2\u001b[0m \u001b[0msess\u001b[0m \u001b[1;33m=\u001b[0m \u001b[0mtf\u001b[0m\u001b[1;33m.\u001b[0m\u001b[0mSession\u001b[0m\u001b[1;33m(\u001b[0m\u001b[1;33m)\u001b[0m\u001b[1;33m\u001b[0m\u001b[0m\n\u001b[0;32m      3\u001b[0m \u001b[1;31m#sess.close()\u001b[0m\u001b[1;33m\u001b[0m\u001b[1;33m\u001b[0m\u001b[0m\n\u001b[0;32m      4\u001b[0m \u001b[0msess\u001b[0m\u001b[1;33m.\u001b[0m\u001b[0m_closed\u001b[0m\u001b[1;33m\u001b[0m\u001b[0m\n\u001b[0;32m      5\u001b[0m \u001b[0msess\u001b[0m\u001b[1;33m.\u001b[0m\u001b[0m_opened\u001b[0m\u001b[1;33m\u001b[0m\u001b[0m\n",
      "\u001b[1;32mE:\\software\\anaconda\\lib\\site-packages\\tensorflow\\__init__.py\u001b[0m in \u001b[0;36m<module>\u001b[1;34m()\u001b[0m\n\u001b[0;32m     22\u001b[0m \u001b[1;33m\u001b[0m\u001b[0m\n\u001b[0;32m     23\u001b[0m \u001b[1;31m# pylint: disable=wildcard-import\u001b[0m\u001b[1;33m\u001b[0m\u001b[1;33m\u001b[0m\u001b[0m\n\u001b[1;32m---> 24\u001b[1;33m \u001b[1;32mfrom\u001b[0m \u001b[0mtensorflow\u001b[0m\u001b[1;33m.\u001b[0m\u001b[0mpython\u001b[0m \u001b[1;32mimport\u001b[0m \u001b[1;33m*\u001b[0m\u001b[1;33m\u001b[0m\u001b[0m\n\u001b[0m\u001b[0;32m     25\u001b[0m \u001b[1;31m# pylint: enable=wildcard-import\u001b[0m\u001b[1;33m\u001b[0m\u001b[1;33m\u001b[0m\u001b[0m\n\u001b[0;32m     26\u001b[0m \u001b[1;33m\u001b[0m\u001b[0m\n",
      "\u001b[1;32mE:\\software\\anaconda\\lib\\site-packages\\tensorflow\\python\\__init__.py\u001b[0m in \u001b[0;36m<module>\u001b[1;34m()\u001b[0m\n\u001b[0;32m     81\u001b[0m \u001b[1;32mfrom\u001b[0m \u001b[0mtensorflow\u001b[0m\u001b[1;33m.\u001b[0m\u001b[0mpython\u001b[0m \u001b[1;32mimport\u001b[0m \u001b[0mdata\u001b[0m\u001b[1;33m\u001b[0m\u001b[0m\n\u001b[0;32m     82\u001b[0m \u001b[1;32mfrom\u001b[0m \u001b[0mtensorflow\u001b[0m\u001b[1;33m.\u001b[0m\u001b[0mpython\u001b[0m \u001b[1;32mimport\u001b[0m \u001b[0mkeras\u001b[0m\u001b[1;33m\u001b[0m\u001b[0m\n\u001b[1;32m---> 83\u001b[1;33m \u001b[1;32mfrom\u001b[0m \u001b[0mtensorflow\u001b[0m\u001b[1;33m.\u001b[0m\u001b[0mpython\u001b[0m\u001b[1;33m.\u001b[0m\u001b[0mestimator\u001b[0m \u001b[1;32mimport\u001b[0m \u001b[0mestimator_lib\u001b[0m \u001b[1;32mas\u001b[0m \u001b[0mestimator\u001b[0m\u001b[1;33m\u001b[0m\u001b[0m\n\u001b[0m\u001b[0;32m     84\u001b[0m \u001b[1;32mfrom\u001b[0m \u001b[0mtensorflow\u001b[0m\u001b[1;33m.\u001b[0m\u001b[0mpython\u001b[0m\u001b[1;33m.\u001b[0m\u001b[0mfeature_column\u001b[0m \u001b[1;32mimport\u001b[0m \u001b[0mfeature_column_lib\u001b[0m \u001b[1;32mas\u001b[0m \u001b[0mfeature_column\u001b[0m\u001b[1;33m\u001b[0m\u001b[0m\n\u001b[0;32m     85\u001b[0m \u001b[1;32mfrom\u001b[0m \u001b[0mtensorflow\u001b[0m\u001b[1;33m.\u001b[0m\u001b[0mpython\u001b[0m\u001b[1;33m.\u001b[0m\u001b[0mlayers\u001b[0m \u001b[1;32mimport\u001b[0m \u001b[0mlayers\u001b[0m\u001b[1;33m\u001b[0m\u001b[0m\n",
      "\u001b[1;32mE:\\software\\anaconda\\lib\\site-packages\\tensorflow\\python\\estimator\\estimator_lib.py\u001b[0m in \u001b[0;36m<module>\u001b[1;34m()\u001b[0m\n\u001b[0;32m     33\u001b[0m \u001b[1;32mfrom\u001b[0m \u001b[0mtensorflow\u001b[0m\u001b[1;33m.\u001b[0m\u001b[0mpython\u001b[0m\u001b[1;33m.\u001b[0m\u001b[0mestimator\u001b[0m\u001b[1;33m.\u001b[0m\u001b[0mexporter\u001b[0m \u001b[1;32mimport\u001b[0m \u001b[0mFinalExporter\u001b[0m\u001b[1;33m\u001b[0m\u001b[0m\n\u001b[0;32m     34\u001b[0m \u001b[1;32mfrom\u001b[0m \u001b[0mtensorflow\u001b[0m\u001b[1;33m.\u001b[0m\u001b[0mpython\u001b[0m\u001b[1;33m.\u001b[0m\u001b[0mestimator\u001b[0m\u001b[1;33m.\u001b[0m\u001b[0mexporter\u001b[0m \u001b[1;32mimport\u001b[0m \u001b[0mLatestExporter\u001b[0m\u001b[1;33m\u001b[0m\u001b[0m\n\u001b[1;32m---> 35\u001b[1;33m \u001b[1;32mfrom\u001b[0m \u001b[0mtensorflow\u001b[0m\u001b[1;33m.\u001b[0m\u001b[0mpython\u001b[0m\u001b[1;33m.\u001b[0m\u001b[0mestimator\u001b[0m\u001b[1;33m.\u001b[0m\u001b[0minputs\u001b[0m \u001b[1;32mimport\u001b[0m \u001b[0minputs\u001b[0m\u001b[1;33m\u001b[0m\u001b[0m\n\u001b[0m\u001b[0;32m     36\u001b[0m \u001b[1;32mfrom\u001b[0m \u001b[0mtensorflow\u001b[0m\u001b[1;33m.\u001b[0m\u001b[0mpython\u001b[0m\u001b[1;33m.\u001b[0m\u001b[0mestimator\u001b[0m\u001b[1;33m.\u001b[0m\u001b[0mmodel_fn\u001b[0m \u001b[1;32mimport\u001b[0m \u001b[0mEstimatorSpec\u001b[0m\u001b[1;33m\u001b[0m\u001b[0m\n\u001b[0;32m     37\u001b[0m \u001b[1;32mfrom\u001b[0m \u001b[0mtensorflow\u001b[0m\u001b[1;33m.\u001b[0m\u001b[0mpython\u001b[0m\u001b[1;33m.\u001b[0m\u001b[0mestimator\u001b[0m\u001b[1;33m.\u001b[0m\u001b[0mmodel_fn\u001b[0m \u001b[1;32mimport\u001b[0m \u001b[0mModeKeys\u001b[0m\u001b[1;33m\u001b[0m\u001b[0m\n",
      "\u001b[1;32mE:\\software\\anaconda\\lib\\site-packages\\tensorflow\\python\\estimator\\inputs\\inputs.py\u001b[0m in \u001b[0;36m<module>\u001b[1;34m()\u001b[0m\n\u001b[0;32m     20\u001b[0m \u001b[1;33m\u001b[0m\u001b[0m\n\u001b[0;32m     21\u001b[0m \u001b[1;31m# pylint: disable=unused-import,line-too-long\u001b[0m\u001b[1;33m\u001b[0m\u001b[1;33m\u001b[0m\u001b[0m\n\u001b[1;32m---> 22\u001b[1;33m \u001b[1;32mfrom\u001b[0m \u001b[0mtensorflow\u001b[0m\u001b[1;33m.\u001b[0m\u001b[0mpython\u001b[0m\u001b[1;33m.\u001b[0m\u001b[0mestimator\u001b[0m\u001b[1;33m.\u001b[0m\u001b[0minputs\u001b[0m\u001b[1;33m.\u001b[0m\u001b[0mnumpy_io\u001b[0m \u001b[1;32mimport\u001b[0m \u001b[0mnumpy_input_fn\u001b[0m\u001b[1;33m\u001b[0m\u001b[0m\n\u001b[0m\u001b[0;32m     23\u001b[0m \u001b[1;32mfrom\u001b[0m \u001b[0mtensorflow\u001b[0m\u001b[1;33m.\u001b[0m\u001b[0mpython\u001b[0m\u001b[1;33m.\u001b[0m\u001b[0mestimator\u001b[0m\u001b[1;33m.\u001b[0m\u001b[0minputs\u001b[0m\u001b[1;33m.\u001b[0m\u001b[0mpandas_io\u001b[0m \u001b[1;32mimport\u001b[0m \u001b[0mpandas_input_fn\u001b[0m\u001b[1;33m\u001b[0m\u001b[0m\n\u001b[0;32m     24\u001b[0m \u001b[1;33m\u001b[0m\u001b[0m\n",
      "\u001b[1;32mE:\\software\\anaconda\\lib\\site-packages\\tensorflow\\python\\estimator\\inputs\\numpy_io.py\u001b[0m in \u001b[0;36m<module>\u001b[1;34m()\u001b[0m\n\u001b[0;32m     20\u001b[0m \u001b[1;33m\u001b[0m\u001b[0m\n\u001b[0;32m     21\u001b[0m \u001b[1;32mimport\u001b[0m \u001b[0mcollections\u001b[0m\u001b[1;33m\u001b[0m\u001b[0m\n\u001b[1;32m---> 22\u001b[1;33m \u001b[1;32mfrom\u001b[0m \u001b[0mtensorflow\u001b[0m\u001b[1;33m.\u001b[0m\u001b[0mpython\u001b[0m\u001b[1;33m.\u001b[0m\u001b[0mestimator\u001b[0m\u001b[1;33m.\u001b[0m\u001b[0minputs\u001b[0m\u001b[1;33m.\u001b[0m\u001b[0mqueues\u001b[0m \u001b[1;32mimport\u001b[0m \u001b[0mfeeding_functions\u001b[0m\u001b[1;33m\u001b[0m\u001b[0m\n\u001b[0m\u001b[0;32m     23\u001b[0m \u001b[1;33m\u001b[0m\u001b[0m\n\u001b[0;32m     24\u001b[0m \u001b[1;31m# Key name to pack the target into dict of `features`. See\u001b[0m\u001b[1;33m\u001b[0m\u001b[1;33m\u001b[0m\u001b[0m\n",
      "\u001b[1;32mE:\\software\\anaconda\\lib\\site-packages\\tensorflow\\python\\estimator\\inputs\\queues\\feeding_functions.py\u001b[0m in \u001b[0;36m<module>\u001b[1;34m()\u001b[0m\n\u001b[0;32m     38\u001b[0m \u001b[1;32mtry\u001b[0m\u001b[1;33m:\u001b[0m\u001b[1;33m\u001b[0m\u001b[0m\n\u001b[0;32m     39\u001b[0m   \u001b[1;31m# pylint: disable=g-import-not-at-top\u001b[0m\u001b[1;33m\u001b[0m\u001b[1;33m\u001b[0m\u001b[0m\n\u001b[1;32m---> 40\u001b[1;33m   \u001b[1;32mimport\u001b[0m \u001b[0mpandas\u001b[0m \u001b[1;32mas\u001b[0m \u001b[0mpd\u001b[0m\u001b[1;33m\u001b[0m\u001b[0m\n\u001b[0m\u001b[0;32m     41\u001b[0m   \u001b[0mHAS_PANDAS\u001b[0m \u001b[1;33m=\u001b[0m \u001b[1;32mTrue\u001b[0m\u001b[1;33m\u001b[0m\u001b[0m\n\u001b[0;32m     42\u001b[0m \u001b[1;32mexcept\u001b[0m \u001b[0mIOError\u001b[0m\u001b[1;33m:\u001b[0m\u001b[1;33m\u001b[0m\u001b[0m\n",
      "\u001b[1;32mE:\\software\\anaconda\\lib\\site-packages\\pandas\\__init__.py\u001b[0m in \u001b[0;36m<module>\u001b[1;34m()\u001b[0m\n\u001b[0;32m     40\u001b[0m \u001b[1;32mimport\u001b[0m \u001b[0mpandas\u001b[0m\u001b[1;33m.\u001b[0m\u001b[0mcore\u001b[0m\u001b[1;33m.\u001b[0m\u001b[0mconfig_init\u001b[0m\u001b[1;33m\u001b[0m\u001b[0m\n\u001b[0;32m     41\u001b[0m \u001b[1;33m\u001b[0m\u001b[0m\n\u001b[1;32m---> 42\u001b[1;33m \u001b[1;32mfrom\u001b[0m \u001b[0mpandas\u001b[0m\u001b[1;33m.\u001b[0m\u001b[0mcore\u001b[0m\u001b[1;33m.\u001b[0m\u001b[0mapi\u001b[0m \u001b[1;32mimport\u001b[0m \u001b[1;33m*\u001b[0m\u001b[1;33m\u001b[0m\u001b[0m\n\u001b[0m\u001b[0;32m     43\u001b[0m \u001b[1;32mfrom\u001b[0m \u001b[0mpandas\u001b[0m\u001b[1;33m.\u001b[0m\u001b[0mcore\u001b[0m\u001b[1;33m.\u001b[0m\u001b[0msparse\u001b[0m\u001b[1;33m.\u001b[0m\u001b[0mapi\u001b[0m \u001b[1;32mimport\u001b[0m \u001b[1;33m*\u001b[0m\u001b[1;33m\u001b[0m\u001b[0m\n\u001b[0;32m     44\u001b[0m \u001b[1;32mfrom\u001b[0m \u001b[0mpandas\u001b[0m\u001b[1;33m.\u001b[0m\u001b[0mstats\u001b[0m\u001b[1;33m.\u001b[0m\u001b[0mapi\u001b[0m \u001b[1;32mimport\u001b[0m \u001b[1;33m*\u001b[0m\u001b[1;33m\u001b[0m\u001b[0m\n",
      "\u001b[1;32mE:\\software\\anaconda\\lib\\site-packages\\pandas\\core\\api.py\u001b[0m in \u001b[0;36m<module>\u001b[1;34m()\u001b[0m\n\u001b[0;32m      7\u001b[0m \u001b[1;32mfrom\u001b[0m \u001b[0mpandas\u001b[0m\u001b[1;33m.\u001b[0m\u001b[0mcore\u001b[0m\u001b[1;33m.\u001b[0m\u001b[0malgorithms\u001b[0m \u001b[1;32mimport\u001b[0m \u001b[0mfactorize\u001b[0m\u001b[1;33m,\u001b[0m \u001b[0munique\u001b[0m\u001b[1;33m,\u001b[0m \u001b[0mvalue_counts\u001b[0m\u001b[1;33m\u001b[0m\u001b[0m\n\u001b[0;32m      8\u001b[0m \u001b[1;32mfrom\u001b[0m \u001b[0mpandas\u001b[0m\u001b[1;33m.\u001b[0m\u001b[0mcore\u001b[0m\u001b[1;33m.\u001b[0m\u001b[0mdtypes\u001b[0m\u001b[1;33m.\u001b[0m\u001b[0mmissing\u001b[0m \u001b[1;32mimport\u001b[0m \u001b[0misnull\u001b[0m\u001b[1;33m,\u001b[0m \u001b[0mnotnull\u001b[0m\u001b[1;33m\u001b[0m\u001b[0m\n\u001b[1;32m----> 9\u001b[1;33m \u001b[1;32mfrom\u001b[0m \u001b[0mpandas\u001b[0m\u001b[1;33m.\u001b[0m\u001b[0mcore\u001b[0m\u001b[1;33m.\u001b[0m\u001b[0mcategorical\u001b[0m \u001b[1;32mimport\u001b[0m \u001b[0mCategorical\u001b[0m\u001b[1;33m\u001b[0m\u001b[0m\n\u001b[0m\u001b[0;32m     10\u001b[0m \u001b[1;32mfrom\u001b[0m \u001b[0mpandas\u001b[0m\u001b[1;33m.\u001b[0m\u001b[0mcore\u001b[0m\u001b[1;33m.\u001b[0m\u001b[0mgroupby\u001b[0m \u001b[1;32mimport\u001b[0m \u001b[0mGrouper\u001b[0m\u001b[1;33m\u001b[0m\u001b[0m\n\u001b[0;32m     11\u001b[0m \u001b[1;32mfrom\u001b[0m \u001b[0mpandas\u001b[0m\u001b[1;33m.\u001b[0m\u001b[0mio\u001b[0m\u001b[1;33m.\u001b[0m\u001b[0mformats\u001b[0m\u001b[1;33m.\u001b[0m\u001b[0mformat\u001b[0m \u001b[1;32mimport\u001b[0m \u001b[0mset_eng_float_format\u001b[0m\u001b[1;33m\u001b[0m\u001b[0m\n",
      "\u001b[1;32mE:\\software\\anaconda\\lib\\site-packages\\pandas\\core\\categorical.py\u001b[0m in \u001b[0;36m<module>\u001b[1;34m()\u001b[0m\n\u001b[0;32m     30\u001b[0m \u001b[1;33m\u001b[0m\u001b[0m\n\u001b[0;32m     31\u001b[0m \u001b[1;32mfrom\u001b[0m \u001b[0mpandas\u001b[0m\u001b[1;33m.\u001b[0m\u001b[0mcore\u001b[0m\u001b[1;33m.\u001b[0m\u001b[0malgorithms\u001b[0m \u001b[1;32mimport\u001b[0m \u001b[0mfactorize\u001b[0m\u001b[1;33m,\u001b[0m \u001b[0mtake_1d\u001b[0m\u001b[1;33m,\u001b[0m \u001b[0munique1d\u001b[0m\u001b[1;33m\u001b[0m\u001b[0m\n\u001b[1;32m---> 32\u001b[1;33m from pandas.core.base import (PandasObject, PandasDelegate,\n\u001b[0m\u001b[0;32m     33\u001b[0m                               NoNewAttributesMixin, _shared_docs)\n\u001b[0;32m     34\u001b[0m \u001b[1;32mimport\u001b[0m \u001b[0mpandas\u001b[0m\u001b[1;33m.\u001b[0m\u001b[0mcore\u001b[0m\u001b[1;33m.\u001b[0m\u001b[0mcommon\u001b[0m \u001b[1;32mas\u001b[0m \u001b[0mcom\u001b[0m\u001b[1;33m\u001b[0m\u001b[0m\n",
      "\u001b[1;32mE:\\software\\anaconda\\lib\\site-packages\\pandas\\core\\base.py\u001b[0m in \u001b[0;36m<module>\u001b[1;34m()\u001b[0m\n\u001b[0;32m     13\u001b[0m \u001b[1;33m\u001b[0m\u001b[0m\n\u001b[0;32m     14\u001b[0m \u001b[1;32mfrom\u001b[0m \u001b[0mpandas\u001b[0m\u001b[1;33m.\u001b[0m\u001b[0mcore\u001b[0m \u001b[1;32mimport\u001b[0m \u001b[0mcommon\u001b[0m \u001b[1;32mas\u001b[0m \u001b[0mcom\u001b[0m\u001b[1;33m\u001b[0m\u001b[0m\n\u001b[1;32m---> 15\u001b[1;33m \u001b[1;32mimport\u001b[0m \u001b[0mpandas\u001b[0m\u001b[1;33m.\u001b[0m\u001b[0mcore\u001b[0m\u001b[1;33m.\u001b[0m\u001b[0mnanops\u001b[0m \u001b[1;32mas\u001b[0m \u001b[0mnanops\u001b[0m\u001b[1;33m\u001b[0m\u001b[0m\n\u001b[0m\u001b[0;32m     16\u001b[0m \u001b[1;32mimport\u001b[0m \u001b[0mpandas\u001b[0m\u001b[1;33m.\u001b[0m\u001b[0m_libs\u001b[0m\u001b[1;33m.\u001b[0m\u001b[0mlib\u001b[0m \u001b[1;32mas\u001b[0m \u001b[0mlib\u001b[0m\u001b[1;33m\u001b[0m\u001b[0m\n\u001b[0;32m     17\u001b[0m \u001b[1;32mfrom\u001b[0m \u001b[0mpandas\u001b[0m\u001b[1;33m.\u001b[0m\u001b[0mcompat\u001b[0m\u001b[1;33m.\u001b[0m\u001b[0mnumpy\u001b[0m \u001b[1;32mimport\u001b[0m \u001b[0mfunction\u001b[0m \u001b[1;32mas\u001b[0m \u001b[0mnv\u001b[0m\u001b[1;33m\u001b[0m\u001b[0m\n",
      "\u001b[1;32mE:\\software\\anaconda\\lib\\importlib\\_bootstrap.py\u001b[0m in \u001b[0;36m_find_and_load\u001b[1;34m(name, import_)\u001b[0m\n",
      "\u001b[1;32mE:\\software\\anaconda\\lib\\importlib\\_bootstrap.py\u001b[0m in \u001b[0;36m_find_and_load_unlocked\u001b[1;34m(name, import_)\u001b[0m\n",
      "\u001b[1;32mE:\\software\\anaconda\\lib\\importlib\\_bootstrap.py\u001b[0m in \u001b[0;36m_load_unlocked\u001b[1;34m(spec)\u001b[0m\n",
      "\u001b[1;32mE:\\software\\anaconda\\lib\\importlib\\_bootstrap_external.py\u001b[0m in \u001b[0;36mexec_module\u001b[1;34m(self, module)\u001b[0m\n",
      "\u001b[1;32mE:\\software\\anaconda\\lib\\importlib\\_bootstrap_external.py\u001b[0m in \u001b[0;36mget_code\u001b[1;34m(self, fullname)\u001b[0m\n",
      "\u001b[1;32mE:\\software\\anaconda\\lib\\importlib\\_bootstrap_external.py\u001b[0m in \u001b[0;36mget_data\u001b[1;34m(self, path)\u001b[0m\n",
      "\u001b[1;31mKeyboardInterrupt\u001b[0m: "
     ]
    }
   ],
   "source": [
    "import tensorflow as tf\n",
    "sess = tf.Session()\n",
    "sess.close()\n",
    "sess._closed\n",
    "sess._opened"
   ]
  },
  {
   "cell_type": "code",
   "execution_count": null,
   "metadata": {
    "collapsed": true
   },
   "outputs": [],
   "source": []
  }
 ],
 "metadata": {
  "kernelspec": {
   "display_name": "Python 3",
   "language": "python",
   "name": "python3"
  },
  "language_info": {
   "codemirror_mode": {
    "name": "ipython",
    "version": 3
   },
   "file_extension": ".py",
   "mimetype": "text/x-python",
   "name": "python",
   "nbconvert_exporter": "python",
   "pygments_lexer": "ipython3",
   "version": "3.6.4"
  }
 },
 "nbformat": 4,
 "nbformat_minor": 2
}
