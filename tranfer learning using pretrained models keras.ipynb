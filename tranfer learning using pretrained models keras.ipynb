{
 "cells": [
  {
   "cell_type": "code",
   "execution_count": 1,
   "metadata": {
    "ExecuteTime": {
     "end_time": "2018-01-18T04:06:40.055391Z",
     "start_time": "2018-01-18T04:06:22.409468Z"
    }
   },
   "outputs": [
    {
     "name": "stderr",
     "output_type": "stream",
     "text": [
      "Using TensorFlow backend.\n"
     ]
    }
   ],
   "source": [
    "import numpy as np # linear algebra\n",
    "import pandas as pd # data processing\n",
    "from random import shuffle, uniform, seed\n",
    "import augmentations as aug\n",
    "import utils\n",
    "import params\n",
    "import scipy"
   ]
  },
  {
   "cell_type": "code",
   "execution_count": 2,
   "metadata": {
    "ExecuteTime": {
     "end_time": "2018-01-18T04:06:40.070934Z",
     "start_time": "2018-01-18T04:06:40.057398Z"
    }
   },
   "outputs": [],
   "source": [
    "from keras.applications.inception_v3 import InceptionV3\n",
    "from keras.applications.resnet50 import ResNet50\n",
    "from keras.applications.vgg16 import VGG16\n",
    "from keras.applications.xception import Xception\n",
    "from keras.applications.mobilenet import MobileNet\n",
    "from keras.applications.vgg19 import VGG19\n",
    "from keras.applications.inception_resnet_v2 import InceptionResNetV2\n",
    "from keras.layers import Concatenate, Dense, LSTM, Input, concatenate, GlobalMaxPooling2D, Dropout, Lambda\n",
    "from keras.preprocessing import image\n",
    "from keras.models import Model\n",
    "from keras.backend import tf as ktf\n",
    "from keras.optimizers import Adam, SGD, Nadam\n",
    "from keras.callbacks import EarlyStopping, ReduceLROnPlateau, ModelCheckpoint, TensorBoard"
   ]
  },
  {
   "cell_type": "code",
   "execution_count": 3,
   "metadata": {
    "ExecuteTime": {
     "end_time": "2018-01-18T04:06:40.147148Z",
     "start_time": "2018-01-18T04:06:40.073943Z"
    },
    "collapsed": true
   },
   "outputs": [],
   "source": [
    "def data_generator(data=None, meta_data=None, labels=None, batch_size=64, augment={}, opt_shuffle=True):\n",
    "    \n",
    "    indices = [i for i in range(len(labels))]\n",
    "    \n",
    "    while True:\n",
    "        \n",
    "        if opt_shuffle:\n",
    "            shuffle(indices)\n",
    "        \n",
    "        x_data = np.copy(data)\n",
    "        x_meta_data = np.copy(meta_data)\n",
    "        x_labels = np.copy(labels)\n",
    "        \n",
    "        for start in range(0, len(labels), batch_size):\n",
    "            end = min(start + batch_size, len(labels))\n",
    "            sel_indices = indices[start:end]\n",
    "            \n",
    "            #select data\n",
    "            data_batch = x_data[sel_indices]\n",
    "            xm_batch = x_meta_data[sel_indices]\n",
    "            y_batch = x_labels[sel_indices]\n",
    "            x_batch = []\n",
    "            \n",
    "            for x in data_batch:\n",
    "                #x = scipy.misc.imresize(x, (299, 299, 3))\n",
    "                #augment                               \n",
    "                if augment.get('Rotate', False):\n",
    "                    x = aug.Rotate(x, u=0.1, v=np.random.random())\n",
    "                    x = aug.Rotate90(x, u=0.1, v=np.random.random())\n",
    "\n",
    "                if augment.get('Shift', False):\n",
    "                    x = aug.Shift(x, u=0.05, v=np.random.random())\n",
    "\n",
    "                if augment.get('Zoom', False):\n",
    "                    x = aug.Zoom(x, u=0.05, v=np.random.random())\n",
    "\n",
    "                if augment.get('Flip', False):\n",
    "                    x = aug.HorizontalFlip(x, u=0.5, v=np.random.random())\n",
    "                    x = aug.VerticalFlip(x, u=0.5, v=np.random.random())\n",
    "\n",
    "                x_batch.append(x)\n",
    "                \n",
    "            x_batch = np.array(x_batch, np.float32)\n",
    "            \n",
    "            yield [x_batch, xm_batch], y_batch"
   ]
  },
  {
   "cell_type": "code",
   "execution_count": 5,
   "metadata": {
    "ExecuteTime": {
     "end_time": "2018-01-18T03:29:21.724217Z",
     "start_time": "2018-01-18T03:28:55.499510Z"
    }
   },
   "outputs": [
    {
     "name": "stdout",
     "output_type": "stream",
     "text": [
      "{'Flip': True, 'Rotate': True, 'Shift': True, 'Zoom': True}\n"
     ]
    }
   ],
   "source": [
    "np.random.seed(1017)\n",
    "target = 'is_iceberg'\n",
    "\n",
    "#Load data\n",
    "train, train_bands = utils.read_jason(file='train.json')\n",
    "test, test_bands = utils.read_jason(file='test.json')\n",
    "\n",
    "#target\n",
    "train_y = train[target].values\n",
    "split_indices = train_y.copy()\n",
    "\n",
    "#data set\n",
    "train_X = utils.rescale(train_bands)\n",
    "train_meta = train['inc_angle'].values\n",
    "test_X_dup = utils.rescale(test_bands)\n",
    "test_meta = test['inc_angle'].values\n",
    "\n",
    "opt_augments = {'Flip': False, 'Rotate': False, 'Shift': False, 'Zoom': False}\n",
    "opt_augments['Flip'] = True\n",
    "opt_augments['Rotate'] = True\n",
    "opt_augments['Shift'] = True\n",
    "opt_augments['Zoom'] = True    \n",
    "print(opt_augments)\n",
    "epochs = params.epochs\n",
    "batch_size = params.batch_size"
   ]
  },
  {
   "cell_type": "code",
   "execution_count": 6,
   "metadata": {
    "ExecuteTime": {
     "end_time": "2018-01-18T03:36:51.621845Z",
     "start_time": "2018-01-18T03:36:51.612319Z"
    },
    "collapsed": true
   },
   "outputs": [],
   "source": [
    "def resize_image(X_data, new_shape):\n",
    "\n",
    "    X_data_resized = [scipy.misc.imresize(img, new_shape) for img in X_data] \n",
    "    \n",
    "    return np.array(X_data_resized)"
   ]
  },
  {
   "cell_type": "code",
   "execution_count": 7,
   "metadata": {
    "ExecuteTime": {
     "end_time": "2018-01-18T03:40:24.535147Z",
     "start_time": "2018-01-18T03:40:13.229070Z"
    },
    "collapsed": true
   },
   "outputs": [],
   "source": [
    "new_shape = (299, 299, 3)\n",
    "train_bands_299 = resize_image(train_bands, new_shape)\n",
    "test_bands_299 = resize_image(test_bands, new_shape)"
   ]
  },
  {
   "cell_type": "code",
   "execution_count": 8,
   "metadata": {
    "ExecuteTime": {
     "end_time": "2018-01-18T03:42:04.080340Z",
     "start_time": "2018-01-18T03:42:04.061805Z"
    },
    "collapsed": true
   },
   "outputs": [],
   "source": [
    "def get_model(img_shape, name=''):\n",
    "    if not name:\n",
    "        print(\"enter model name.\")\n",
    "        raise NameError\n",
    "    if name == 'resnet50':\n",
    "        basemodel = ResNet50(weights='imagenet', include_top=False, input_shape=img_shape, classes=1)\n",
    "    elif name == 'vgg16':\n",
    "        basemodel = VGG16(weights='imagenet', include_top=False, input_shape=img_shape, classes=1)\n",
    "    elif name == 'vgg19':\n",
    "        basemodel = VGG19(weights='imagenet', include_top=False, input_shape=img_shape, classes=1)\n",
    "    elif name == 'xception':\n",
    "        basemodel = Xception(weights='imagenet', include_top=False, input_shape=img_shape, classes=1)\n",
    "    elif name == 'inceptionv3':\n",
    "        basemodel = InceptionV3(weights='imagenet', include_top=False, input_shape=img_shape, classes=1)\n",
    "    elif name == 'inceptionv2':\n",
    "        basemodel = InceptionResNetV2(weights='imagenet', include_top=False, input_shape=img_shape, classes=1)\n",
    "    elif name == 'mobilenet':\n",
    "        basemodel = MobileNet(weights='imagenet', alpha=0.5, include_top=False, input_shape=img_shape, classes=1)\n",
    "    return basemodel"
   ]
  },
  {
   "cell_type": "markdown",
   "metadata": {},
   "source": [
    "### Extract Xception bottleneck features"
   ]
  },
  {
   "cell_type": "code",
   "execution_count": 10,
   "metadata": {
    "ExecuteTime": {
     "end_time": "2018-01-18T03:52:10.211862Z",
     "start_time": "2018-01-18T03:52:05.238621Z"
    },
    "collapsed": true
   },
   "outputs": [],
   "source": [
    "model_name = 'xception'\n",
    "xception = get_model(img_shape=(299, 299, 3), name=model_name)"
   ]
  },
  {
   "cell_type": "code",
   "execution_count": 11,
   "metadata": {
    "ExecuteTime": {
     "end_time": "2018-01-18T03:59:06.640792Z",
     "start_time": "2018-01-18T03:57:15.880308Z"
    }
   },
   "outputs": [
    {
     "name": "stdout",
     "output_type": "stream",
     "text": [
      "1604/1604 [==============================] - 18s 11ms/step\n",
      "8424/8424 [==============================] - 93s 11ms/step\n"
     ]
    }
   ],
   "source": [
    "xception_train = xception.predict(train_bands_299, batch_size=batch_size, verbose=1)\n",
    "xception_test = xception.predict(test_bands_299, batch_size=batch_size, verbose=1)"
   ]
  },
  {
   "cell_type": "markdown",
   "metadata": {},
   "source": [
    "### Extract Inception_v3 bottleneck features"
   ]
  },
  {
   "cell_type": "code",
   "execution_count": null,
   "metadata": {
    "ExecuteTime": {
     "start_time": "2018-01-18T03:59:22.901Z"
    }
   },
   "outputs": [
    {
     "name": "stdout",
     "output_type": "stream",
     "text": [
      "1604/1604 [==============================] - 15s 9ms/step\n",
      "1856/8424 [=====>........................] - ETA: 2:25"
     ]
    }
   ],
   "source": [
    "model_name = 'inceptionv3'\n",
    "Inceptionv3 = get_model(img_shape=(299, 299, 3), name=model_name)\n",
    "Inceptionv3_train = Inceptionv3.predict(train_bands_299, batch_size=batch_size, verbose=1)\n",
    "Inceptionv3_test = Inceptionv3.predict(test_bands_299, batch_size=batch_size, verbose=1)"
   ]
  },
  {
   "cell_type": "code",
   "execution_count": null,
   "metadata": {
    "collapsed": true
   },
   "outputs": [],
   "source": []
  }
 ],
 "metadata": {
  "kernelspec": {
   "display_name": "Python 3",
   "language": "python",
   "name": "python3"
  },
  "language_info": {
   "codemirror_mode": {
    "name": "ipython",
    "version": 3
   },
   "file_extension": ".py",
   "mimetype": "text/x-python",
   "name": "python",
   "nbconvert_exporter": "python",
   "pygments_lexer": "ipython3",
   "version": "3.6.4"
  }
 },
 "nbformat": 4,
 "nbformat_minor": 2
}
