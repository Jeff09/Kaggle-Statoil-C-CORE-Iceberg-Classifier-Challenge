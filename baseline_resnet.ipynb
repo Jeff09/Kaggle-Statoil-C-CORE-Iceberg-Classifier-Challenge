{
 "cells": [
  {
   "cell_type": "code",
   "execution_count": 1,
   "metadata": {
    "ExecuteTime": {
     "end_time": "2017-12-24T17:24:08.618657Z",
     "start_time": "2017-12-24T17:23:55.910275Z"
    }
   },
   "outputs": [
    {
     "name": "stderr",
     "output_type": "stream",
     "text": [
      "Using TensorFlow backend.\n"
     ]
    }
   ],
   "source": [
    "import numpy as np\n",
    "import pandas as pd\n",
    "\n",
    "from sklearn.model_selection import train_test_split\n",
    "from keras.models import Model\n",
    "from keras.layers import Conv2D, MaxPooling2D, GlobalMaxPooling2D\n",
    "from keras.layers import Dense, Dropout, BatchNormalization, Input, Activation\n",
    "from keras.layers.merge import Concatenate, add\n",
    "from keras.optimizers import Adam\n",
    "from keras.callbacks import EarlyStopping, ReduceLROnPlateau, ModelCheckpoint\n",
    "from keras.preprocessing.image import ImageDataGenerator"
   ]
  },
  {
   "cell_type": "code",
   "execution_count": 2,
   "metadata": {
    "ExecuteTime": {
     "end_time": "2017-12-24T17:24:08.624674Z",
     "start_time": "2017-12-24T17:24:08.620162Z"
    },
    "collapsed": true
   },
   "outputs": [],
   "source": [
    "SEED       = 816  # Random seed\n",
    "TRAIN_PATH = 'data/processed/train.json'\n",
    "TEST_PATH  = 'data/processed/test.json'\n",
    "\n",
    "BATCH_SIZE     = 32\n",
    "EPOCHS         = 15 \n",
    "EARLY_STOPPING = 7  # If model loss doesn't improve after this many iterations then stop"
   ]
  },
  {
   "cell_type": "code",
   "execution_count": 25,
   "metadata": {
    "ExecuteTime": {
     "end_time": "2017-12-24T17:57:28.242606Z",
     "start_time": "2017-12-24T17:57:27.979924Z"
    },
    "collapsed": true
   },
   "outputs": [],
   "source": [
    "def build_model():\n",
    "    \n",
    "    image_input = Input(shape = (75, 75, 3), name = 'images')\n",
    "    angle_input = Input(shape = [1], name = 'angle')\n",
    "    activation = 'relu'\n",
    "    bn_momentum = 0.99\n",
    "    \n",
    "    img_1 = BatchNormalization(momentum=bn_momentum)(image_input)\n",
    "    img_1 = Conv2D(32, kernel_size=(3, 3), activation = activation, padding = 'same')(img_1)   \n",
    "    img_1 = MaxPooling2D((2,2))(img_1)\n",
    "    \n",
    "    img_1 = Conv2D( 64, kernel_size = (3, 3), activation = activation, \n",
    "                    padding = 'same' ) ((BatchNormalization(momentum=bn_momentum)) (img_1) )\n",
    "    img_1 = MaxPooling2D( (2,2), name='skip1' ) ( img_1 )\n",
    "    \n",
    "    # Residual block\n",
    "    img_2 = Conv2D( 128, kernel_size = (3, 3), activation = activation, \n",
    "                    padding = 'same' ) ((BatchNormalization(momentum=bn_momentum)) (img_1))\n",
    "    img_2 = Conv2D( 64, name='img2', kernel_size = (3, 3), \n",
    "                    activation = activation, padding = 'same' ) ( (BatchNormalization(momentum=bn_momentum)) (img_2) )\n",
    "    \n",
    "    img_2 = add( [img_1, img_2] )\n",
    "    img_2 = MaxPooling2D( (2,2), name='skip2' ) ( img_2 )\n",
    "    \n",
    "    # Residual block\n",
    "    img_3 = Conv2D( 128, kernel_size = (3, 3), activation = activation, \n",
    "                    padding = 'same' ) ((BatchNormalization(momentum=bn_momentum)) (img_2))\n",
    "    img_3 = Conv2D( 64, name='img3', kernel_size = (3, 3), \n",
    "                    activation = activation, padding = 'same' ) ((BatchNormalization(momentum=bn_momentum)) (img_3))\n",
    "    \n",
    "    img_res = add( [img_2, img_3] )\n",
    "    \n",
    "    # Residual block\n",
    "    img_4 = Conv2D( 128, kernel_size = (3, 3), activation = activation, \n",
    "                    padding = 'same' ) ((BatchNormalization(momentum=bn_momentum)) (img_3))\n",
    "    img_4 = Conv2D( 64, name='img4', kernel_size = (3, 3), \n",
    "                    activation = activation, padding = 'same' ) ((BatchNormalization(momentum=bn_momentum)) (img_4))\n",
    "    \n",
    "    img_res = add( [img_2, img_3, img_4] )\n",
    "    \n",
    "    # Filter residual output\n",
    "    img_res = Conv2D( 128, kernel_size = (3, 3), \n",
    "                      activation = activation ) ((BatchNormalization(momentum=bn_momentum)) (img_res))\n",
    "    \n",
    "    # Can you guess why we do this? Hint: Where did Flatten go??\n",
    "    img_res = GlobalMaxPooling2D(name='global_pooling') ( img_res )\n",
    "    \n",
    "    # What is this? Hint: We have 2 inputs. An image and a number.\n",
    "    cnn_out = Concatenate(name='What_happens_here')( [img_res, angle_input] )\n",
    "    \n",
    "    dense_layer = Dropout( 0.5 ) (Dense(256, activation = activation) (cnn_out)) \n",
    "    dense_layer = Dropout( 0.5 )  (Dense(64, activation = activation) (dense_layer)) \n",
    "    output = Dense( 1, activation = 'sigmoid' ) ( dense_layer )\n",
    "    \n",
    "    model = Model( [image_input, angle_input], output )\n",
    "    \n",
    "    opt = Adam( lr = 1e-3, beta_1 = .9, beta_2 = .999, decay = 1e-3 )\n",
    "\n",
    "    model.compile( loss = 'binary_crossentropy', \n",
    "                   optimizer = opt, \n",
    "                   metrics = ['accuracy'] )\n",
    "\n",
    "    model.summary()\n",
    "\n",
    "    return model    "
   ]
  },
  {
   "cell_type": "code",
   "execution_count": 4,
   "metadata": {
    "ExecuteTime": {
     "end_time": "2017-12-24T17:24:08.819723Z",
     "start_time": "2017-12-24T17:24:08.726557Z"
    },
    "collapsed": true
   },
   "outputs": [],
   "source": [
    "def get_callbacks(filepath, patience=2):\n",
    "    #es = EarlyStopping('val_loss', patience=patience, mode=\"min\")\n",
    "    reduce_lr_loss = ReduceLROnPlateau(monitor='val_loss', factor=0.1, patience=7, verbose=1, epsilon=1e-4, mode='min')\n",
    "    msave = ModelCheckpoint(filepath, save_best_only=True)\n",
    "    return [msave,reduce_lr_loss]\n",
    "file_path = \".baseline_resnet_weights.hdf5\"\n",
    "callbacks = get_callbacks(filepath=file_path)"
   ]
  },
  {
   "cell_type": "code",
   "execution_count": 10,
   "metadata": {
    "ExecuteTime": {
     "end_time": "2017-12-24T17:40:05.722231Z",
     "start_time": "2017-12-24T17:40:05.709189Z"
    },
    "collapsed": true
   },
   "outputs": [],
   "source": [
    "def get_scaled_imgs(df):\n",
    "    imgs = []\n",
    "    \n",
    "    for i, row in df.iterrows():\n",
    "        #make 75x75 image\n",
    "        #Create 3 bands having HH, HV and avg of both\n",
    "        band_1 = np.array(row['band_1']).reshape(75, 75)\n",
    "        band_2 = np.array(row['band_2']).reshape(75, 75)\n",
    "        band_3 = band_1 + band_2 # plus since log(x*y) = log(x) + log(y)\n",
    "        \n",
    "        # Rescale, be carefull when testing cause it should do the same rescale to test data \n",
    "        #using mean, max and min value of train data\n",
    "        #a = (band_1 - band_1.mean()) / (band_1.max() - band_1.min())\n",
    "        #b = (band_2 - band_2.mean()) / (band_2.max() - band_2.min())\n",
    "        #c = (band_3 - band_3.mean()) / (band_3.max() - band_3.min())\n",
    "\n",
    "        #imgs.append(np.dstack((a, b, c)))\n",
    "        \n",
    "        imgs.append(np.dstack((band_1, band_2, band_3)))\n",
    "\n",
    "    return np.array(imgs)"
   ]
  },
  {
   "cell_type": "code",
   "execution_count": 11,
   "metadata": {
    "ExecuteTime": {
     "end_time": "2017-12-24T17:40:07.461188Z",
     "start_time": "2017-12-24T17:40:07.451662Z"
    },
    "collapsed": true
   },
   "outputs": [],
   "source": [
    "# This creates a Python iterator over the inputs\n",
    "# It will run continually, but yield one batch at a time.\n",
    "# So whenever you make the call to 'augment_data'\n",
    "# it will return the next batch of data for you\n",
    "def gen_flow( generator, X1, X2, y, batch_size = 32 ):\n",
    "    generator_seed = np.random.randint( SEED )\n",
    "    gen_X1 = generator.flow( X1, y, \n",
    "                             batch_size = batch_size, seed = generator_seed )\n",
    "    gen_X2 = generator.flow( X1, X2, \n",
    "                             batch_size = batch_size, seed = generator_seed )\n",
    "\n",
    "    while True:\n",
    "        X1i = gen_X1.next()\n",
    "        X2i = gen_X2.next()\n",
    "\n",
    "        yield [ X1i[0], X2i[1] ], X1i[1]"
   ]
  },
  {
   "cell_type": "code",
   "execution_count": 12,
   "metadata": {
    "ExecuteTime": {
     "end_time": "2017-12-24T17:40:11.364648Z",
     "start_time": "2017-12-24T17:40:11.324055Z"
    },
    "collapsed": true
   },
   "outputs": [],
   "source": [
    "from scipy.ndimage import rotate as rot\n",
    "\n",
    "def augment(images):\n",
    "    image_mirror_lr = []\n",
    "    image_mirror_ud = []\n",
    "    image_rotate = []\n",
    "    for i in range(0,images.shape[0]):\n",
    "        band_1 = images[i,:,:,0]\n",
    "        band_2 = images[i,:,:,1]\n",
    "        band_3 = images[i,:,:,2]\n",
    "            \n",
    "        # mirror left-right\n",
    "        band_1_mirror_lr = np.flip(band_1, 0)\n",
    "        band_2_mirror_lr = np.flip(band_2, 0)\n",
    "        band_3_mirror_lr = np.flip(band_3, 0)\n",
    "        image_mirror_lr.append(np.dstack((band_1_mirror_lr, band_2_mirror_lr, band_3_mirror_lr)))\n",
    "        \n",
    "        # mirror up-down\n",
    "        band_1_mirror_ud = np.flip(band_1, 1)\n",
    "        band_2_mirror_ud = np.flip(band_2, 1)\n",
    "        band_3_mirror_ud = np.flip(band_3, 1)\n",
    "        image_mirror_ud.append(np.dstack((band_1_mirror_ud, band_2_mirror_ud, band_3_mirror_ud)))\n",
    "        \n",
    "        #rotate \n",
    "        band_1_rotate = rot(band_1, 30, reshape=False)\n",
    "        band_2_rotate = rot(band_2, 30, reshape=False)\n",
    "        band_3_rotate = rot(band_3, 30, reshape=False)\n",
    "        image_rotate.append(np.dstack((band_1_rotate, band_2_rotate, band_3_rotate)))\n",
    "        \n",
    "    mirrorlr = np.array(image_mirror_lr)\n",
    "    mirrorud = np.array(image_mirror_ud)\n",
    "    rotated = np.array(image_rotate)\n",
    "    images = np.concatenate((images, mirrorlr, mirrorud, rotated))\n",
    "    return images"
   ]
  },
  {
   "cell_type": "code",
   "execution_count": 13,
   "metadata": {
    "ExecuteTime": {
     "end_time": "2017-12-24T17:40:22.726024Z",
     "start_time": "2017-12-24T17:40:20.444310Z"
    }
   },
   "outputs": [
    {
     "name": "stdout",
     "output_type": "stream",
     "text": [
      "(1471,)\n",
      "(1471, 75, 75, 3)\n",
      "(1471,)\n",
      "(1471,)\n"
     ]
    }
   ],
   "source": [
    "# Read the angle data and replace NaN with 0 degrees\n",
    "train_data = pd.read_json( TRAIN_PATH )\n",
    "train_data[ 'inc_angle' ] = train_data[ 'inc_angle' ].replace('na', 0)\n",
    "train_data[ 'inc_angle' ] = train_data[ 'inc_angle' ].astype(float).fillna(0.0)\n",
    "\n",
    "indx_tr = np.where(train_data.inc_angle > 0)\n",
    "print (indx_tr[0].shape)\n",
    "\n",
    "#Generate the training data\n",
    "X_train = get_scaled_imgs(train_data)\n",
    "#X_test = get_scaled_imgs(test)\n",
    "X_a = train_data[ 'inc_angle' ]\n",
    "y_train=train_data['is_iceberg']\n",
    "\n",
    "y_train = y_train[indx_tr[0]]\n",
    "X_train = X_train[indx_tr[0], ...]\n",
    "X_a = X_a[indx_tr[0]]\n",
    "\n",
    "print (X_train.shape)\n",
    "print (y_train.shape)\n",
    "print(X_a.shape)"
   ]
  },
  {
   "cell_type": "code",
   "execution_count": 14,
   "metadata": {
    "ExecuteTime": {
     "end_time": "2017-12-24T17:40:28.071657Z",
     "start_time": "2017-12-24T17:40:27.868831Z"
    }
   },
   "outputs": [
    {
     "name": "stderr",
     "output_type": "stream",
     "text": [
      "E:\\software\\anaconda\\lib\\site-packages\\sklearn\\model_selection\\_split.py:2026: FutureWarning: From version 0.21, test_size will always complement train_size unless both are specified.\n",
      "  FutureWarning)\n"
     ]
    }
   ],
   "source": [
    "X_train, X_val, X_angle_train, X_angle_val, y_train, y_val = \\\n",
    "    train_test_split( X_train, X_a, y_train, \n",
    "                      train_size = .8, \n",
    "                      random_state = SEED )"
   ]
  },
  {
   "cell_type": "code",
   "execution_count": 16,
   "metadata": {
    "ExecuteTime": {
     "end_time": "2017-12-24T17:41:09.933422Z",
     "start_time": "2017-12-24T17:41:06.956606Z"
    }
   },
   "outputs": [
    {
     "name": "stdout",
     "output_type": "stream",
     "text": [
      "(4704, 75, 75, 3)\n",
      "(4704,)\n",
      "(4704,)\n"
     ]
    }
   ],
   "source": [
    "X_train_aug = augment(X_train)\n",
    "y_train_aug = np.concatenate((y_train,y_train, y_train, y_train))\n",
    "X_angle_train_aug = np.concatenate((X_angle_train, X_angle_train, X_angle_train, X_angle_train))\n",
    "\n",
    "print (X_train_aug.shape)\n",
    "print (y_train_aug.shape)\n",
    "print(X_angle_train_aug.shape)"
   ]
  },
  {
   "cell_type": "code",
   "execution_count": 17,
   "metadata": {
    "ExecuteTime": {
     "end_time": "2017-12-24T17:41:22.168468Z",
     "start_time": "2017-12-24T17:41:22.164457Z"
    },
    "collapsed": true
   },
   "outputs": [],
   "source": [
    "# Our data augmentation (applied to just the image)\n",
    "image_augmentation = ImageDataGenerator( rotation_range = 20,\n",
    "                                         horizontal_flip = True,\n",
    "                                         vertical_flip = True,\n",
    "                                         width_shift_range = .3,\n",
    "                                         height_shift_range =.3,\n",
    "                                         zoom_range = .1 )\n",
    "train_generator = gen_flow( image_augmentation, X_train_aug, \n",
    "                                X_angle_train_aug, y_train_aug, \n",
    "                                batch_size = BATCH_SIZE )"
   ]
  },
  {
   "cell_type": "code",
   "execution_count": 26,
   "metadata": {
    "ExecuteTime": {
     "end_time": "2017-12-24T18:00:18.593495Z",
     "start_time": "2017-12-24T17:57:54.859345Z"
    }
   },
   "outputs": [
    {
     "name": "stdout",
     "output_type": "stream",
     "text": [
      "__________________________________________________________________________________________________\n",
      "Layer (type)                    Output Shape         Param #     Connected to                     \n",
      "==================================================================================================\n",
      "images (InputLayer)             (None, 75, 75, 3)    0                                            \n",
      "__________________________________________________________________________________________________\n",
      "batch_normalization_8 (BatchNor (None, 75, 75, 3)    12          images[0][0]                     \n",
      "__________________________________________________________________________________________________\n",
      "conv2d_6 (Conv2D)               (None, 75, 75, 32)   896         batch_normalization_8[0][0]      \n",
      "__________________________________________________________________________________________________\n",
      "max_pooling2d_2 (MaxPooling2D)  (None, 37, 37, 32)   0           conv2d_6[0][0]                   \n",
      "__________________________________________________________________________________________________\n",
      "batch_normalization_9 (BatchNor (None, 37, 37, 32)   128         max_pooling2d_2[0][0]            \n",
      "__________________________________________________________________________________________________\n",
      "conv2d_7 (Conv2D)               (None, 37, 37, 64)   18496       batch_normalization_9[0][0]      \n",
      "__________________________________________________________________________________________________\n",
      "skip1 (MaxPooling2D)            (None, 18, 18, 64)   0           conv2d_7[0][0]                   \n",
      "__________________________________________________________________________________________________\n",
      "batch_normalization_10 (BatchNo (None, 18, 18, 64)   256         skip1[0][0]                      \n",
      "__________________________________________________________________________________________________\n",
      "conv2d_8 (Conv2D)               (None, 18, 18, 128)  73856       batch_normalization_10[0][0]     \n",
      "__________________________________________________________________________________________________\n",
      "batch_normalization_11 (BatchNo (None, 18, 18, 128)  512         conv2d_8[0][0]                   \n",
      "__________________________________________________________________________________________________\n",
      "img2 (Conv2D)                   (None, 18, 18, 64)   73792       batch_normalization_11[0][0]     \n",
      "__________________________________________________________________________________________________\n",
      "add_3 (Add)                     (None, 18, 18, 64)   0           skip1[0][0]                      \n",
      "                                                                 img2[0][0]                       \n",
      "__________________________________________________________________________________________________\n",
      "skip2 (MaxPooling2D)            (None, 9, 9, 64)     0           add_3[0][0]                      \n",
      "__________________________________________________________________________________________________\n",
      "batch_normalization_12 (BatchNo (None, 9, 9, 64)     256         skip2[0][0]                      \n",
      "__________________________________________________________________________________________________\n",
      "conv2d_9 (Conv2D)               (None, 9, 9, 128)    73856       batch_normalization_12[0][0]     \n",
      "__________________________________________________________________________________________________\n",
      "batch_normalization_13 (BatchNo (None, 9, 9, 128)    512         conv2d_9[0][0]                   \n",
      "__________________________________________________________________________________________________\n",
      "img3 (Conv2D)                   (None, 9, 9, 64)     73792       batch_normalization_13[0][0]     \n",
      "__________________________________________________________________________________________________\n",
      "batch_normalization_14 (BatchNo (None, 9, 9, 64)     256         img3[0][0]                       \n",
      "__________________________________________________________________________________________________\n",
      "conv2d_10 (Conv2D)              (None, 9, 9, 128)    73856       batch_normalization_14[0][0]     \n",
      "__________________________________________________________________________________________________\n",
      "batch_normalization_15 (BatchNo (None, 9, 9, 128)    512         conv2d_10[0][0]                  \n",
      "__________________________________________________________________________________________________\n",
      "img4 (Conv2D)                   (None, 9, 9, 64)     73792       batch_normalization_15[0][0]     \n",
      "__________________________________________________________________________________________________\n",
      "add_5 (Add)                     (None, 9, 9, 64)     0           skip2[0][0]                      \n",
      "                                                                 img3[0][0]                       \n",
      "                                                                 img4[0][0]                       \n",
      "__________________________________________________________________________________________________\n",
      "batch_normalization_16 (BatchNo (None, 9, 9, 64)     256         add_5[0][0]                      \n",
      "__________________________________________________________________________________________________\n",
      "conv2d_11 (Conv2D)              (None, 7, 7, 128)    73856       batch_normalization_16[0][0]     \n",
      "__________________________________________________________________________________________________\n",
      "global_pooling (GlobalMaxPoolin (None, 128)          0           conv2d_11[0][0]                  \n",
      "__________________________________________________________________________________________________\n",
      "angle (InputLayer)              (None, 1)            0                                            \n",
      "__________________________________________________________________________________________________\n",
      "What_happens_here (Concatenate) (None, 129)          0           global_pooling[0][0]             \n",
      "                                                                 angle[0][0]                      \n",
      "__________________________________________________________________________________________________\n",
      "dense_4 (Dense)                 (None, 256)          33280       What_happens_here[0][0]          \n",
      "__________________________________________________________________________________________________\n",
      "dropout_3 (Dropout)             (None, 256)          0           dense_4[0][0]                    \n",
      "__________________________________________________________________________________________________\n",
      "dense_5 (Dense)                 (None, 64)           16448       dropout_3[0][0]                  \n",
      "__________________________________________________________________________________________________\n",
      "dropout_4 (Dropout)             (None, 64)           0           dense_5[0][0]                    \n",
      "__________________________________________________________________________________________________\n",
      "dense_6 (Dense)                 (None, 1)            65          dropout_4[0][0]                  \n",
      "==================================================================================================\n",
      "Total params: 588,685\n",
      "Trainable params: 587,335\n",
      "Non-trainable params: 1,350\n",
      "__________________________________________________________________________________________________\n",
      "Epoch 1/60\n",
      "36/36 [==============================] - 5s 132ms/step - loss: 1.3361 - acc: 0.5477 - val_loss: 0.7319 - val_acc: 0.4847\n",
      "Epoch 2/60\n",
      "36/36 [==============================] - 2s 60ms/step - loss: 0.7448 - acc: 0.5755 - val_loss: 0.7068 - val_acc: 0.4136\n",
      "Epoch 3/60\n",
      "36/36 [==============================] - 2s 63ms/step - loss: 0.6804 - acc: 0.6007 - val_loss: 0.7153 - val_acc: 0.5085\n",
      "Epoch 4/60\n",
      "36/36 [==============================] - 2s 61ms/step - loss: 0.5721 - acc: 0.6884 - val_loss: 0.7305 - val_acc: 0.5288\n",
      "Epoch 5/60\n",
      "36/36 [==============================] - 2s 62ms/step - loss: 0.5300 - acc: 0.7318 - val_loss: 0.6384 - val_acc: 0.6237\n",
      "Epoch 6/60\n",
      "36/36 [==============================] - 2s 62ms/step - loss: 0.4933 - acc: 0.7899 - val_loss: 0.5080 - val_acc: 0.7322\n",
      "Epoch 7/60\n",
      "36/36 [==============================] - 2s 64ms/step - loss: 0.4773 - acc: 0.7865 - val_loss: 0.4423 - val_acc: 0.7492\n",
      "Epoch 8/60\n",
      "36/36 [==============================] - 2s 65ms/step - loss: 0.4291 - acc: 0.8177 - val_loss: 0.4563 - val_acc: 0.7729\n",
      "Epoch 9/60\n",
      "36/36 [==============================] - 2s 64ms/step - loss: 0.4409 - acc: 0.8116 - val_loss: 0.4143 - val_acc: 0.7864\n",
      "Epoch 10/60\n",
      "36/36 [==============================] - 2s 63ms/step - loss: 0.4172 - acc: 0.8212 - val_loss: 0.3477 - val_acc: 0.8339\n",
      "Epoch 11/60\n",
      "36/36 [==============================] - 2s 63ms/step - loss: 0.4018 - acc: 0.8438 - val_loss: 0.3020 - val_acc: 0.8712\n",
      "Epoch 12/60\n",
      "36/36 [==============================] - 2s 65ms/step - loss: 0.4084 - acc: 0.8064 - val_loss: 0.3340 - val_acc: 0.8441\n",
      "Epoch 13/60\n",
      "36/36 [==============================] - 2s 63ms/step - loss: 0.4093 - acc: 0.8038 - val_loss: 0.3812 - val_acc: 0.8305\n",
      "Epoch 14/60\n",
      "36/36 [==============================] - 2s 62ms/step - loss: 0.3380 - acc: 0.8550 - val_loss: 0.2786 - val_acc: 0.8475\n",
      "Epoch 15/60\n",
      "36/36 [==============================] - 2s 61ms/step - loss: 0.3387 - acc: 0.8420 - val_loss: 0.2831 - val_acc: 0.8746\n",
      "Epoch 16/60\n",
      "36/36 [==============================] - 2s 64ms/step - loss: 0.3501 - acc: 0.8438 - val_loss: 0.2963 - val_acc: 0.8746\n",
      "Epoch 17/60\n",
      "36/36 [==============================] - 2s 64ms/step - loss: 0.3311 - acc: 0.8472 - val_loss: 0.2632 - val_acc: 0.8881\n",
      "Epoch 18/60\n",
      "36/36 [==============================] - 2s 64ms/step - loss: 0.3488 - acc: 0.8490 - val_loss: 0.2595 - val_acc: 0.9017\n",
      "Epoch 19/60\n",
      "36/36 [==============================] - 2s 62ms/step - loss: 0.3083 - acc: 0.8681 - val_loss: 0.2909 - val_acc: 0.8678\n",
      "Epoch 20/60\n",
      "36/36 [==============================] - 2s 64ms/step - loss: 0.2972 - acc: 0.8698 - val_loss: 0.3027 - val_acc: 0.8712\n",
      "Epoch 21/60\n",
      "36/36 [==============================] - 2s 63ms/step - loss: 0.3099 - acc: 0.8628 - val_loss: 0.2580 - val_acc: 0.8949\n",
      "Epoch 22/60\n",
      "36/36 [==============================] - 2s 62ms/step - loss: 0.2819 - acc: 0.8733 - val_loss: 0.3252 - val_acc: 0.8576\n",
      "Epoch 23/60\n",
      "36/36 [==============================] - 2s 62ms/step - loss: 0.3006 - acc: 0.8646 - val_loss: 0.2983 - val_acc: 0.8780\n",
      "Epoch 24/60\n",
      "36/36 [==============================] - 2s 62ms/step - loss: 0.3366 - acc: 0.8455 - val_loss: 0.2571 - val_acc: 0.9017\n",
      "Epoch 25/60\n",
      "36/36 [==============================] - 2s 62ms/step - loss: 0.3507 - acc: 0.8498 - val_loss: 0.3639 - val_acc: 0.8102\n",
      "Epoch 26/60\n",
      "36/36 [==============================] - 2s 63ms/step - loss: 0.2875 - acc: 0.8663 - val_loss: 0.3286 - val_acc: 0.8508\n",
      "Epoch 27/60\n",
      "36/36 [==============================] - 2s 62ms/step - loss: 0.2891 - acc: 0.8802 - val_loss: 0.2934 - val_acc: 0.8746\n",
      "Epoch 28/60\n",
      "36/36 [==============================] - 2s 63ms/step - loss: 0.2795 - acc: 0.8767 - val_loss: 0.2697 - val_acc: 0.8949\n",
      "Epoch 29/60\n",
      "36/36 [==============================] - 2s 62ms/step - loss: 0.2835 - acc: 0.8767 - val_loss: 0.2876 - val_acc: 0.8983\n",
      "Epoch 30/60\n",
      "36/36 [==============================] - 2s 62ms/step - loss: 0.2938 - acc: 0.8698 - val_loss: 0.2416 - val_acc: 0.9153\n",
      "Epoch 31/60\n",
      "36/36 [==============================] - 2s 63ms/step - loss: 0.3143 - acc: 0.8594 - val_loss: 0.3026 - val_acc: 0.8644\n",
      "Epoch 32/60\n",
      "36/36 [==============================] - 2s 62ms/step - loss: 0.2775 - acc: 0.8741 - val_loss: 0.2908 - val_acc: 0.8949\n",
      "Epoch 33/60\n",
      "36/36 [==============================] - 2s 63ms/step - loss: 0.2705 - acc: 0.8932 - val_loss: 0.3569 - val_acc: 0.8712\n",
      "Epoch 34/60\n",
      "36/36 [==============================] - 2s 62ms/step - loss: 0.2816 - acc: 0.8898 - val_loss: 0.2522 - val_acc: 0.8983\n",
      "Epoch 35/60\n",
      "36/36 [==============================] - 2s 63ms/step - loss: 0.2618 - acc: 0.8863 - val_loss: 0.2494 - val_acc: 0.9085\n",
      "Epoch 36/60\n",
      "36/36 [==============================] - 2s 62ms/step - loss: 0.2645 - acc: 0.8854 - val_loss: 0.2325 - val_acc: 0.9051\n",
      "Epoch 37/60\n",
      "36/36 [==============================] - 2s 63ms/step - loss: 0.2765 - acc: 0.8958 - val_loss: 0.2513 - val_acc: 0.8915\n",
      "Epoch 38/60\n",
      "36/36 [==============================] - 2s 63ms/step - loss: 0.2671 - acc: 0.8915 - val_loss: 0.2407 - val_acc: 0.9051\n",
      "Epoch 39/60\n",
      "36/36 [==============================] - 2s 62ms/step - loss: 0.2838 - acc: 0.8750 - val_loss: 0.2606 - val_acc: 0.8780\n",
      "Epoch 40/60\n",
      "36/36 [==============================] - 2s 62ms/step - loss: 0.2439 - acc: 0.8906 - val_loss: 0.2409 - val_acc: 0.8983\n",
      "Epoch 41/60\n",
      "36/36 [==============================] - 2s 62ms/step - loss: 0.2717 - acc: 0.8845 - val_loss: 0.2360 - val_acc: 0.9017\n",
      "Epoch 42/60\n",
      "36/36 [==============================] - 2s 62ms/step - loss: 0.2761 - acc: 0.8880 - val_loss: 0.2548 - val_acc: 0.8915\n",
      "Epoch 43/60\n",
      "36/36 [==============================] - 4s 100ms/step - loss: 0.2668 - acc: 0.8993 - val_loss: 0.2211 - val_acc: 0.9085\n",
      "Epoch 44/60\n",
      "36/36 [==============================] - 2s 50ms/step - loss: 0.2608 - acc: 0.8880 - val_loss: 0.2288 - val_acc: 0.9085\n",
      "Epoch 45/60\n",
      "36/36 [==============================] - 2s 62ms/step - loss: 0.2534 - acc: 0.8967 - val_loss: 0.2461 - val_acc: 0.8983\n",
      "Epoch 46/60\n",
      "36/36 [==============================] - 2s 64ms/step - loss: 0.2515 - acc: 0.8941 - val_loss: 0.2270 - val_acc: 0.9017\n",
      "Epoch 47/60\n",
      "36/36 [==============================] - 2s 64ms/step - loss: 0.2605 - acc: 0.8967 - val_loss: 0.2592 - val_acc: 0.8949\n",
      "Epoch 48/60\n",
      "36/36 [==============================] - 2s 63ms/step - loss: 0.2528 - acc: 0.8854 - val_loss: 0.2212 - val_acc: 0.9186\n",
      "Epoch 49/60\n",
      "36/36 [==============================] - 2s 64ms/step - loss: 0.2454 - acc: 0.8984 - val_loss: 0.2307 - val_acc: 0.8915\n",
      "Epoch 50/60\n",
      "36/36 [==============================] - 2s 63ms/step - loss: 0.2497 - acc: 0.8950 - val_loss: 0.2747 - val_acc: 0.9051\n",
      "Epoch 51/60\n",
      "35/36 [============================>.] - ETA: 0s - loss: 0.2213 - acc: 0.9107\n",
      "Epoch 00051: reducing learning rate to 0.00010000000474974513.\n",
      "36/36 [==============================] - 2s 67ms/step - loss: 0.2246 - acc: 0.9115 - val_loss: 0.2579 - val_acc: 0.9017\n",
      "Epoch 52/60\n",
      "36/36 [==============================] - 2s 58ms/step - loss: 0.2084 - acc: 0.9245 - val_loss: 0.2384 - val_acc: 0.9085\n",
      "Epoch 53/60\n",
      "36/36 [==============================] - 2s 64ms/step - loss: 0.2406 - acc: 0.9002 - val_loss: 0.2338 - val_acc: 0.9119\n",
      "Epoch 54/60\n",
      "36/36 [==============================] - 2s 63ms/step - loss: 0.2283 - acc: 0.9071 - val_loss: 0.2266 - val_acc: 0.9119\n",
      "Epoch 55/60\n",
      "36/36 [==============================] - 2s 63ms/step - loss: 0.2088 - acc: 0.9193 - val_loss: 0.2313 - val_acc: 0.9186\n",
      "Epoch 56/60\n",
      "36/36 [==============================] - 2s 63ms/step - loss: 0.2226 - acc: 0.9167 - val_loss: 0.2322 - val_acc: 0.9153\n",
      "Epoch 57/60\n",
      "36/36 [==============================] - 2s 63ms/step - loss: 0.2161 - acc: 0.9045 - val_loss: 0.2266 - val_acc: 0.9119\n",
      "Epoch 58/60\n",
      "34/36 [===========================>..] - ETA: 0s - loss: 0.2166 - acc: 0.9127\n",
      "Epoch 00058: reducing learning rate to 1.0000000474974514e-05.\n",
      "36/36 [==============================] - 2s 63ms/step - loss: 0.2198 - acc: 0.9132 - val_loss: 0.2279 - val_acc: 0.9186\n",
      "Epoch 59/60\n",
      "36/36 [==============================] - 2s 62ms/step - loss: 0.2222 - acc: 0.9045 - val_loss: 0.2258 - val_acc: 0.9186\n",
      "Epoch 60/60\n",
      "36/36 [==============================] - 2s 63ms/step - loss: 0.2220 - acc: 0.9132 - val_loss: 0.2269 - val_acc: 0.9186\n"
     ]
    }
   ],
   "source": [
    "# Define the ResNet model topology\n",
    "model = build_model()\n",
    "\n",
    "history = model.fit_generator( train_generator, \n",
    "                     steps_per_epoch = len(X_train)//BATCH_SIZE, \n",
    "                     epochs = 60,\n",
    "                     callbacks = callbacks, verbose = 1, \n",
    "                     validation_data = [[X_val, X_angle_val], y_val] )"
   ]
  },
  {
   "cell_type": "code",
   "execution_count": 27,
   "metadata": {
    "ExecuteTime": {
     "end_time": "2017-12-24T18:00:37.988146Z",
     "start_time": "2017-12-24T18:00:37.795145Z"
    }
   },
   "outputs": [
    {
     "data": {
      "image/png": "[encoded data removed]",
      "text/plain": [
       "<matplotlib.figure.Figure at 0x2a08fe5a320>"
      ]
     },
     "metadata": {},
     "output_type": "display_data"
    },
    {
     "data": {
      "image/png": "[encoded data removed]",
      "text/plain": [
       "<matplotlib.figure.Figure at 0x2a09147d048>"
      ]
     },
     "metadata": {},
     "output_type": "display_data"
    }
   ],
   "source": [
    "import matplotlib.pyplot as plt\n",
    "\n",
    "acc = history.history['acc']\n",
    "val_acc = history.history['val_acc']\n",
    "loss = history.history['loss']\n",
    "val_loss = history.history['val_loss']\n",
    "\n",
    "epochs = range(len(acc))\n",
    "\n",
    "plt.plot(epochs, acc, 'bo', label='Training acc')\n",
    "plt.plot(epochs, val_acc, 'b', label='Validation acc')\n",
    "plt.title('Training and validation accuracy')\n",
    "plt.legend()\n",
    "\n",
    "plt.figure()\n",
    "\n",
    "plt.plot(epochs, loss, 'bo', label='Training loss')\n",
    "plt.plot(epochs, val_loss, 'b', label='Validation loss')\n",
    "plt.title('Training and validation loss')\n",
    "plt.legend()\n",
    "\n",
    "plt.show()"
   ]
  },
  {
   "cell_type": "code",
   "execution_count": 28,
   "metadata": {
    "ExecuteTime": {
     "end_time": "2017-12-24T18:00:50.338212Z",
     "start_time": "2017-12-24T18:00:49.899355Z"
    }
   },
   "outputs": [
    {
     "name": "stdout",
     "output_type": "stream",
     "text": [
      "295/295 [==============================] - 0s 395us/step\n",
      "Validation score: 0.221\n",
      "Validation accuracy: 90.85%\n"
     ]
    }
   ],
   "source": [
    "model.load_weights(filepath=file_path)\n",
    "\n",
    "# Print the accuracy on the test set\n",
    "val_score = model.evaluate( [X_val, X_angle_val], y_val, verbose = 1 )\n",
    "print( 'Validation score: {:.3f}'.format(val_score[0]) )\n",
    "print( 'Validation accuracy: {:.2f}%'.format(val_score[1]*100) )"
   ]
  },
  {
   "cell_type": "markdown",
   "metadata": {},
   "source": [
    "### Predict"
   ]
  },
  {
   "cell_type": "code",
   "execution_count": 22,
   "metadata": {
    "ExecuteTime": {
     "end_time": "2017-12-24T17:48:07.495674Z",
     "start_time": "2017-12-24T17:47:53.363471Z"
    },
    "collapsed": true
   },
   "outputs": [],
   "source": [
    "test_data = pd.read_json( TEST_PATH )\n",
    "X_test = get_scaled_imgs(test_data)"
   ]
  },
  {
   "cell_type": "code",
   "execution_count": 23,
   "metadata": {
    "ExecuteTime": {
     "end_time": "2017-12-24T17:48:07.505173Z",
     "start_time": "2017-12-24T17:48:07.497151Z"
    },
    "collapsed": true
   },
   "outputs": [],
   "source": [
    "test_data[ 'inc_angle' ] = test_data[ 'inc_angle' ].replace('na', 0)\n",
    "test_data[ 'inc_angle' ] = test_data[ 'inc_angle' ].astype(float).fillna(0.0)\n",
    "X_test_ang = test_data[ 'inc_angle' ]"
   ]
  },
  {
   "cell_type": "code",
   "execution_count": 24,
   "metadata": {
    "ExecuteTime": {
     "end_time": "2017-12-24T17:48:11.640221Z",
     "start_time": "2017-12-24T17:48:08.580162Z"
    },
    "collapsed": true
   },
   "outputs": [],
   "source": [
    "model.load_weights(filepath=file_path)\n",
    "\n",
    "predicted_test=model.predict([X_test,X_test_ang])\n",
    "submission = pd.DataFrame()\n",
    "submission['id']=test_data['id']\n",
    "submission['is_iceberg']=predicted_test.reshape((predicted_test.shape[0]))\n",
    "submission.to_csv('baseline_resnet.csv', index=False)"
   ]
  },
  {
   "cell_type": "code",
   "execution_count": 27,
   "metadata": {
    "ExecuteTime": {
     "end_time": "2017-12-24T16:52:27.444943Z",
     "start_time": "2017-12-24T16:52:27.111315Z"
    }
   },
   "outputs": [
    {
     "data": {
      "text/plain": [
       "False"
      ]
     },
     "execution_count": 27,
     "metadata": {},
     "output_type": "execute_result"
    }
   ],
   "source": [
    "import tensorflow as tf\n",
    "sess = tf.Session()\n",
    "sess.close()\n",
    "sess._closed\n",
    "sess._opened"
   ]
  },
  {
   "cell_type": "code",
   "execution_count": null,
   "metadata": {
    "collapsed": true
   },
   "outputs": [],
   "source": []
  }
 ],
 "metadata": {
  "kernelspec": {
   "display_name": "Python 3",
   "language": "python",
   "name": "python3"
  },
  "language_info": {
   "codemirror_mode": {
    "name": "ipython",
    "version": 3
   },
   "file_extension": ".py",
   "mimetype": "text/x-python",
   "name": "python",
   "nbconvert_exporter": "python",
   "pygments_lexer": "ipython3",
   "version": "3.6.4"
  }
 },
 "nbformat": 4,
 "nbformat_minor": 2
}
