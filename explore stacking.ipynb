{
 "cells": [
  {
   "cell_type": "code",
   "execution_count": 1,
   "metadata": {
    "ExecuteTime": {
     "end_time": "2018-01-21T18:11:33.716159Z",
     "start_time": "2018-01-21T18:11:33.418819Z"
    },
    "collapsed": true
   },
   "outputs": [],
   "source": [
    "import os\n",
    "import numpy as np \n",
    "import pandas as pd "
   ]
  },
  {
   "cell_type": "code",
   "execution_count": 10,
   "metadata": {
    "ExecuteTime": {
     "end_time": "2018-01-21T18:14:07.669815Z",
     "start_time": "2018-01-21T18:14:07.515099Z"
    }
   },
   "outputs": [
    {
     "data": {
      "text/html": [
       "<div>\n",
       "<style>\n",
       "    .dataframe thead tr:only-child th {\n",
       "        text-align: right;\n",
       "    }\n",
       "\n",
       "    .dataframe thead th {\n",
       "        text-align: left;\n",
       "    }\n",
       "\n",
       "    .dataframe tbody tr th {\n",
       "        vertical-align: top;\n",
       "    }\n",
       "</style>\n",
       "<table border=\"1\" class=\"dataframe\">\n",
       "  <thead>\n",
       "    <tr style=\"text-align: right;\">\n",
       "      <th></th>\n",
       "      <th>index</th>\n",
       "      <th>is_iceberg_0</th>\n",
       "      <th>is_iceberg_1</th>\n",
       "      <th>is_iceberg_2</th>\n",
       "      <th>is_iceberg_3</th>\n",
       "      <th>is_iceberg_4</th>\n",
       "      <th>is_iceberg_5</th>\n",
       "      <th>is_iceberg_6</th>\n",
       "      <th>is_iceberg_7</th>\n",
       "      <th>is_iceberg_8</th>\n",
       "      <th>is_iceberg_9</th>\n",
       "      <th>is_iceberg_10</th>\n",
       "      <th>is_iceberg_11</th>\n",
       "      <th>is_iceberg_12</th>\n",
       "      <th>is_iceberg_13</th>\n",
       "      <th>is_iceberg_14</th>\n",
       "      <th>is_iceberg_15</th>\n",
       "    </tr>\n",
       "  </thead>\n",
       "  <tbody>\n",
       "    <tr>\n",
       "      <th>0</th>\n",
       "      <td>000c65d7</td>\n",
       "      <td>0.940922</td>\n",
       "      <td>0.971932</td>\n",
       "      <td>0.698584</td>\n",
       "      <td>0.986394</td>\n",
       "      <td>0.978666</td>\n",
       "      <td>0.988160</td>\n",
       "      <td>0.968528</td>\n",
       "      <td>0.950015</td>\n",
       "      <td>0.829308</td>\n",
       "      <td>0.927660</td>\n",
       "      <td>0.853539</td>\n",
       "      <td>0.958352</td>\n",
       "      <td>0.962711</td>\n",
       "      <td>0.969171</td>\n",
       "      <td>0.919677</td>\n",
       "      <td>0.949458</td>\n",
       "    </tr>\n",
       "    <tr>\n",
       "      <th>1</th>\n",
       "      <td>001680af</td>\n",
       "      <td>0.047328</td>\n",
       "      <td>0.901378</td>\n",
       "      <td>0.075043</td>\n",
       "      <td>0.563252</td>\n",
       "      <td>0.160924</td>\n",
       "      <td>0.002711</td>\n",
       "      <td>0.032610</td>\n",
       "      <td>0.017569</td>\n",
       "      <td>0.198283</td>\n",
       "      <td>0.229532</td>\n",
       "      <td>0.027082</td>\n",
       "      <td>0.991595</td>\n",
       "      <td>0.181105</td>\n",
       "      <td>0.319137</td>\n",
       "      <td>0.290738</td>\n",
       "      <td>0.103649</td>\n",
       "    </tr>\n",
       "    <tr>\n",
       "      <th>2</th>\n",
       "      <td>00193999</td>\n",
       "      <td>0.953578</td>\n",
       "      <td>0.929536</td>\n",
       "      <td>0.962048</td>\n",
       "      <td>0.887588</td>\n",
       "      <td>0.968851</td>\n",
       "      <td>0.962048</td>\n",
       "      <td>0.972574</td>\n",
       "      <td>0.920939</td>\n",
       "      <td>0.510140</td>\n",
       "      <td>0.504859</td>\n",
       "      <td>0.767712</td>\n",
       "      <td>0.701394</td>\n",
       "      <td>0.295356</td>\n",
       "      <td>0.975653</td>\n",
       "      <td>0.906019</td>\n",
       "      <td>0.619730</td>\n",
       "    </tr>\n",
       "    <tr>\n",
       "      <th>3</th>\n",
       "      <td>00247e48</td>\n",
       "      <td>0.913552</td>\n",
       "      <td>0.971503</td>\n",
       "      <td>0.999999</td>\n",
       "      <td>0.971217</td>\n",
       "      <td>0.996103</td>\n",
       "      <td>0.999000</td>\n",
       "      <td>0.997548</td>\n",
       "      <td>0.997524</td>\n",
       "      <td>0.999031</td>\n",
       "      <td>0.997330</td>\n",
       "      <td>0.988809</td>\n",
       "      <td>0.984618</td>\n",
       "      <td>0.966419</td>\n",
       "      <td>0.993207</td>\n",
       "      <td>0.993749</td>\n",
       "      <td>0.999458</td>\n",
       "    </tr>\n",
       "    <tr>\n",
       "      <th>4</th>\n",
       "      <td>00503faa</td>\n",
       "      <td>0.000010</td>\n",
       "      <td>0.006710</td>\n",
       "      <td>0.000016</td>\n",
       "      <td>0.020206</td>\n",
       "      <td>0.001401</td>\n",
       "      <td>0.001000</td>\n",
       "      <td>0.000077</td>\n",
       "      <td>0.000774</td>\n",
       "      <td>0.073802</td>\n",
       "      <td>0.306574</td>\n",
       "      <td>0.061254</td>\n",
       "      <td>0.005297</td>\n",
       "      <td>0.003499</td>\n",
       "      <td>0.001801</td>\n",
       "      <td>0.004246</td>\n",
       "      <td>0.031132</td>\n",
       "    </tr>\n",
       "  </tbody>\n",
       "</table>\n",
       "</div>"
      ],
      "text/plain": [
       "      index  is_iceberg_0  is_iceberg_1  is_iceberg_2  is_iceberg_3  \\\n",
       "0  000c65d7      0.940922      0.971932      0.698584      0.986394   \n",
       "1  001680af      0.047328      0.901378      0.075043      0.563252   \n",
       "2  00193999      0.953578      0.929536      0.962048      0.887588   \n",
       "3  00247e48      0.913552      0.971503      0.999999      0.971217   \n",
       "4  00503faa      0.000010      0.006710      0.000016      0.020206   \n",
       "\n",
       "   is_iceberg_4  is_iceberg_5  is_iceberg_6  is_iceberg_7  is_iceberg_8  \\\n",
       "0      0.978666      0.988160      0.968528      0.950015      0.829308   \n",
       "1      0.160924      0.002711      0.032610      0.017569      0.198283   \n",
       "2      0.968851      0.962048      0.972574      0.920939      0.510140   \n",
       "3      0.996103      0.999000      0.997548      0.997524      0.999031   \n",
       "4      0.001401      0.001000      0.000077      0.000774      0.073802   \n",
       "\n",
       "   is_iceberg_9  is_iceberg_10  is_iceberg_11  is_iceberg_12  is_iceberg_13  \\\n",
       "0      0.927660       0.853539       0.958352       0.962711       0.969171   \n",
       "1      0.229532       0.027082       0.991595       0.181105       0.319137   \n",
       "2      0.504859       0.767712       0.701394       0.295356       0.975653   \n",
       "3      0.997330       0.988809       0.984618       0.966419       0.993207   \n",
       "4      0.306574       0.061254       0.005297       0.003499       0.001801   \n",
       "\n",
       "   is_iceberg_14  is_iceberg_15  \n",
       "0       0.919677       0.949458  \n",
       "1       0.290738       0.103649  \n",
       "2       0.906019       0.619730  \n",
       "3       0.993749       0.999458  \n",
       "4       0.004246       0.031132  "
      ]
     },
     "execution_count": 10,
     "metadata": {},
     "output_type": "execute_result"
    }
   ],
   "source": [
    "sub_path = \"submissions/\"\n",
    "all_files = os.listdir(sub_path)\n",
    "\n",
    "# Read and concatenate submissions\n",
    "outs = [pd.read_csv(os.path.join(sub_path, f), index_col=0, float_precision='high') for f in all_files]\n",
    "concat_sub = pd.concat(outs, axis=1)\n",
    "cols = list(map(lambda x: \"is_iceberg_\" + str(x), range(len(concat_sub.columns))))\n",
    "concat_sub.columns = cols\n",
    "concat_sub.reset_index(inplace=True)\n",
    "concat_sub.head()"
   ]
  },
  {
   "cell_type": "code",
   "execution_count": 11,
   "metadata": {
    "ExecuteTime": {
     "end_time": "2018-01-21T18:14:08.884826Z",
     "start_time": "2018-01-21T18:14:08.881317Z"
    },
    "scrolled": true
   },
   "outputs": [
    {
     "data": {
      "text/plain": [
       "['ens_ice_98989898989898989.csv',\n",
       " 'Keras_CNN_0.1516.csv',\n",
       " 'Keras_lb0.18.csv',\n",
       " 'LB1541_final_ensemble.csv',\n",
       " 'stacking_from_staked.csv',\n",
       " 'submission54_0.1327.csv',\n",
       " 'subm_2018-01-15-22-06_vgg16.csv',\n",
       " 'subm_2018-01-16-00-35_vgg19.csv',\n",
       " 'subm_2018-01-16-20-28_inceptionv3.csv',\n",
       " 'subm_2018-01-17-15-16_xception.csv',\n",
       " 'subm_2018-01-18-06-47_resnet50.csv',\n",
       " 'subm_blend009_gbm_0.203.csv',\n",
       " 'sub_fcn0.193.csv',\n",
       " 'vggbnw_fcn_en.csv',\n",
       " 'VGG_Mobilenet_1.csv',\n",
       " 'xception_mobile.csv']"
      ]
     },
     "execution_count": 11,
     "metadata": {},
     "output_type": "execute_result"
    }
   ],
   "source": [
    "all_files"
   ]
  },
  {
   "cell_type": "code",
   "execution_count": 12,
   "metadata": {
    "ExecuteTime": {
     "end_time": "2018-01-21T18:14:10.444986Z",
     "start_time": "2018-01-21T18:14:10.419418Z"
    }
   },
   "outputs": [
    {
     "data": {
      "text/html": [
       "<div>\n",
       "<style>\n",
       "    .dataframe thead tr:only-child th {\n",
       "        text-align: right;\n",
       "    }\n",
       "\n",
       "    .dataframe thead th {\n",
       "        text-align: left;\n",
       "    }\n",
       "\n",
       "    .dataframe tbody tr th {\n",
       "        vertical-align: top;\n",
       "    }\n",
       "</style>\n",
       "<table border=\"1\" class=\"dataframe\">\n",
       "  <thead>\n",
       "    <tr style=\"text-align: right;\">\n",
       "      <th></th>\n",
       "      <th>is_iceberg_0</th>\n",
       "      <th>is_iceberg_1</th>\n",
       "      <th>is_iceberg_2</th>\n",
       "      <th>is_iceberg_3</th>\n",
       "      <th>is_iceberg_4</th>\n",
       "      <th>is_iceberg_5</th>\n",
       "      <th>is_iceberg_6</th>\n",
       "      <th>is_iceberg_7</th>\n",
       "      <th>is_iceberg_8</th>\n",
       "      <th>is_iceberg_9</th>\n",
       "      <th>is_iceberg_10</th>\n",
       "      <th>is_iceberg_11</th>\n",
       "      <th>is_iceberg_12</th>\n",
       "      <th>is_iceberg_13</th>\n",
       "      <th>is_iceberg_14</th>\n",
       "      <th>is_iceberg_15</th>\n",
       "    </tr>\n",
       "  </thead>\n",
       "  <tbody>\n",
       "    <tr>\n",
       "      <th>is_iceberg_0</th>\n",
       "      <td>1.000000</td>\n",
       "      <td>0.726105</td>\n",
       "      <td>0.914140</td>\n",
       "      <td>0.785668</td>\n",
       "      <td>0.954340</td>\n",
       "      <td>0.952768</td>\n",
       "      <td>0.937031</td>\n",
       "      <td>0.930841</td>\n",
       "      <td>0.929560</td>\n",
       "      <td>0.901693</td>\n",
       "      <td>0.919346</td>\n",
       "      <td>0.555389</td>\n",
       "      <td>0.837292</td>\n",
       "      <td>0.884432</td>\n",
       "      <td>0.930340</td>\n",
       "      <td>0.947099</td>\n",
       "    </tr>\n",
       "    <tr>\n",
       "      <th>is_iceberg_1</th>\n",
       "      <td>0.726105</td>\n",
       "      <td>1.000000</td>\n",
       "      <td>0.680894</td>\n",
       "      <td>0.719479</td>\n",
       "      <td>0.728913</td>\n",
       "      <td>0.662862</td>\n",
       "      <td>0.684340</td>\n",
       "      <td>0.663994</td>\n",
       "      <td>0.694811</td>\n",
       "      <td>0.680930</td>\n",
       "      <td>0.647556</td>\n",
       "      <td>0.518634</td>\n",
       "      <td>0.629989</td>\n",
       "      <td>0.741382</td>\n",
       "      <td>0.712434</td>\n",
       "      <td>0.673231</td>\n",
       "    </tr>\n",
       "    <tr>\n",
       "      <th>is_iceberg_2</th>\n",
       "      <td>0.914140</td>\n",
       "      <td>0.680894</td>\n",
       "      <td>1.000000</td>\n",
       "      <td>0.742498</td>\n",
       "      <td>0.908363</td>\n",
       "      <td>0.900871</td>\n",
       "      <td>0.873012</td>\n",
       "      <td>0.881850</td>\n",
       "      <td>0.894521</td>\n",
       "      <td>0.869261</td>\n",
       "      <td>0.899224</td>\n",
       "      <td>0.493308</td>\n",
       "      <td>0.789509</td>\n",
       "      <td>0.847913</td>\n",
       "      <td>0.873656</td>\n",
       "      <td>0.909904</td>\n",
       "    </tr>\n",
       "    <tr>\n",
       "      <th>is_iceberg_3</th>\n",
       "      <td>0.785668</td>\n",
       "      <td>0.719479</td>\n",
       "      <td>0.742498</td>\n",
       "      <td>1.000000</td>\n",
       "      <td>0.736544</td>\n",
       "      <td>0.668603</td>\n",
       "      <td>0.769805</td>\n",
       "      <td>0.738163</td>\n",
       "      <td>0.746221</td>\n",
       "      <td>0.701256</td>\n",
       "      <td>0.652482</td>\n",
       "      <td>0.689161</td>\n",
       "      <td>0.684805</td>\n",
       "      <td>0.750361</td>\n",
       "      <td>0.826108</td>\n",
       "      <td>0.710405</td>\n",
       "    </tr>\n",
       "    <tr>\n",
       "      <th>is_iceberg_4</th>\n",
       "      <td>0.954340</td>\n",
       "      <td>0.728913</td>\n",
       "      <td>0.908363</td>\n",
       "      <td>0.736544</td>\n",
       "      <td>1.000000</td>\n",
       "      <td>0.963411</td>\n",
       "      <td>0.927133</td>\n",
       "      <td>0.927955</td>\n",
       "      <td>0.919228</td>\n",
       "      <td>0.895573</td>\n",
       "      <td>0.928028</td>\n",
       "      <td>0.515547</td>\n",
       "      <td>0.829502</td>\n",
       "      <td>0.962236</td>\n",
       "      <td>0.912589</td>\n",
       "      <td>0.948299</td>\n",
       "    </tr>\n",
       "    <tr>\n",
       "      <th>is_iceberg_5</th>\n",
       "      <td>0.952768</td>\n",
       "      <td>0.662862</td>\n",
       "      <td>0.900871</td>\n",
       "      <td>0.668603</td>\n",
       "      <td>0.963411</td>\n",
       "      <td>1.000000</td>\n",
       "      <td>0.897966</td>\n",
       "      <td>0.906836</td>\n",
       "      <td>0.905837</td>\n",
       "      <td>0.886902</td>\n",
       "      <td>0.938943</td>\n",
       "      <td>0.430573</td>\n",
       "      <td>0.821154</td>\n",
       "      <td>0.854066</td>\n",
       "      <td>0.867737</td>\n",
       "      <td>0.946273</td>\n",
       "    </tr>\n",
       "    <tr>\n",
       "      <th>is_iceberg_6</th>\n",
       "      <td>0.937031</td>\n",
       "      <td>0.684340</td>\n",
       "      <td>0.873012</td>\n",
       "      <td>0.769805</td>\n",
       "      <td>0.927133</td>\n",
       "      <td>0.897966</td>\n",
       "      <td>1.000000</td>\n",
       "      <td>0.974778</td>\n",
       "      <td>0.890383</td>\n",
       "      <td>0.850786</td>\n",
       "      <td>0.893328</td>\n",
       "      <td>0.522493</td>\n",
       "      <td>0.826440</td>\n",
       "      <td>0.887290</td>\n",
       "      <td>0.940274</td>\n",
       "      <td>0.923272</td>\n",
       "    </tr>\n",
       "    <tr>\n",
       "      <th>is_iceberg_7</th>\n",
       "      <td>0.930841</td>\n",
       "      <td>0.663994</td>\n",
       "      <td>0.881850</td>\n",
       "      <td>0.738163</td>\n",
       "      <td>0.927955</td>\n",
       "      <td>0.906836</td>\n",
       "      <td>0.974778</td>\n",
       "      <td>1.000000</td>\n",
       "      <td>0.894958</td>\n",
       "      <td>0.855607</td>\n",
       "      <td>0.907538</td>\n",
       "      <td>0.488086</td>\n",
       "      <td>0.814585</td>\n",
       "      <td>0.879876</td>\n",
       "      <td>0.931398</td>\n",
       "      <td>0.928669</td>\n",
       "    </tr>\n",
       "    <tr>\n",
       "      <th>is_iceberg_8</th>\n",
       "      <td>0.929560</td>\n",
       "      <td>0.694811</td>\n",
       "      <td>0.894521</td>\n",
       "      <td>0.746221</td>\n",
       "      <td>0.919228</td>\n",
       "      <td>0.905837</td>\n",
       "      <td>0.890383</td>\n",
       "      <td>0.894958</td>\n",
       "      <td>1.000000</td>\n",
       "      <td>0.930094</td>\n",
       "      <td>0.925647</td>\n",
       "      <td>0.549924</td>\n",
       "      <td>0.786500</td>\n",
       "      <td>0.863955</td>\n",
       "      <td>0.882123</td>\n",
       "      <td>0.937294</td>\n",
       "    </tr>\n",
       "    <tr>\n",
       "      <th>is_iceberg_9</th>\n",
       "      <td>0.901693</td>\n",
       "      <td>0.680930</td>\n",
       "      <td>0.869261</td>\n",
       "      <td>0.701256</td>\n",
       "      <td>0.895573</td>\n",
       "      <td>0.886902</td>\n",
       "      <td>0.850786</td>\n",
       "      <td>0.855607</td>\n",
       "      <td>0.930094</td>\n",
       "      <td>1.000000</td>\n",
       "      <td>0.900590</td>\n",
       "      <td>0.529913</td>\n",
       "      <td>0.764674</td>\n",
       "      <td>0.837279</td>\n",
       "      <td>0.846281</td>\n",
       "      <td>0.915275</td>\n",
       "    </tr>\n",
       "    <tr>\n",
       "      <th>is_iceberg_10</th>\n",
       "      <td>0.919346</td>\n",
       "      <td>0.647556</td>\n",
       "      <td>0.899224</td>\n",
       "      <td>0.652482</td>\n",
       "      <td>0.928028</td>\n",
       "      <td>0.938943</td>\n",
       "      <td>0.893328</td>\n",
       "      <td>0.907538</td>\n",
       "      <td>0.925647</td>\n",
       "      <td>0.900590</td>\n",
       "      <td>1.000000</td>\n",
       "      <td>0.405560</td>\n",
       "      <td>0.780894</td>\n",
       "      <td>0.847410</td>\n",
       "      <td>0.858499</td>\n",
       "      <td>0.949408</td>\n",
       "    </tr>\n",
       "    <tr>\n",
       "      <th>is_iceberg_11</th>\n",
       "      <td>0.555389</td>\n",
       "      <td>0.518634</td>\n",
       "      <td>0.493308</td>\n",
       "      <td>0.689161</td>\n",
       "      <td>0.515547</td>\n",
       "      <td>0.430573</td>\n",
       "      <td>0.522493</td>\n",
       "      <td>0.488086</td>\n",
       "      <td>0.549924</td>\n",
       "      <td>0.529913</td>\n",
       "      <td>0.405560</td>\n",
       "      <td>1.000000</td>\n",
       "      <td>0.489134</td>\n",
       "      <td>0.563222</td>\n",
       "      <td>0.590488</td>\n",
       "      <td>0.483455</td>\n",
       "    </tr>\n",
       "    <tr>\n",
       "      <th>is_iceberg_12</th>\n",
       "      <td>0.837292</td>\n",
       "      <td>0.629989</td>\n",
       "      <td>0.789509</td>\n",
       "      <td>0.684805</td>\n",
       "      <td>0.829502</td>\n",
       "      <td>0.821154</td>\n",
       "      <td>0.826440</td>\n",
       "      <td>0.814585</td>\n",
       "      <td>0.786500</td>\n",
       "      <td>0.764674</td>\n",
       "      <td>0.780894</td>\n",
       "      <td>0.489134</td>\n",
       "      <td>1.000000</td>\n",
       "      <td>0.775830</td>\n",
       "      <td>0.817127</td>\n",
       "      <td>0.823466</td>\n",
       "    </tr>\n",
       "    <tr>\n",
       "      <th>is_iceberg_13</th>\n",
       "      <td>0.884432</td>\n",
       "      <td>0.741382</td>\n",
       "      <td>0.847913</td>\n",
       "      <td>0.750361</td>\n",
       "      <td>0.962236</td>\n",
       "      <td>0.854066</td>\n",
       "      <td>0.887290</td>\n",
       "      <td>0.879876</td>\n",
       "      <td>0.863955</td>\n",
       "      <td>0.837279</td>\n",
       "      <td>0.847410</td>\n",
       "      <td>0.563222</td>\n",
       "      <td>0.775830</td>\n",
       "      <td>1.000000</td>\n",
       "      <td>0.889766</td>\n",
       "      <td>0.879306</td>\n",
       "    </tr>\n",
       "    <tr>\n",
       "      <th>is_iceberg_14</th>\n",
       "      <td>0.930340</td>\n",
       "      <td>0.712434</td>\n",
       "      <td>0.873656</td>\n",
       "      <td>0.826108</td>\n",
       "      <td>0.912589</td>\n",
       "      <td>0.867737</td>\n",
       "      <td>0.940274</td>\n",
       "      <td>0.931398</td>\n",
       "      <td>0.882123</td>\n",
       "      <td>0.846281</td>\n",
       "      <td>0.858499</td>\n",
       "      <td>0.590488</td>\n",
       "      <td>0.817127</td>\n",
       "      <td>0.889766</td>\n",
       "      <td>1.000000</td>\n",
       "      <td>0.902584</td>\n",
       "    </tr>\n",
       "    <tr>\n",
       "      <th>is_iceberg_15</th>\n",
       "      <td>0.947099</td>\n",
       "      <td>0.673231</td>\n",
       "      <td>0.909904</td>\n",
       "      <td>0.710405</td>\n",
       "      <td>0.948299</td>\n",
       "      <td>0.946273</td>\n",
       "      <td>0.923272</td>\n",
       "      <td>0.928669</td>\n",
       "      <td>0.937294</td>\n",
       "      <td>0.915275</td>\n",
       "      <td>0.949408</td>\n",
       "      <td>0.483455</td>\n",
       "      <td>0.823466</td>\n",
       "      <td>0.879306</td>\n",
       "      <td>0.902584</td>\n",
       "      <td>1.000000</td>\n",
       "    </tr>\n",
       "  </tbody>\n",
       "</table>\n",
       "</div>"
      ],
      "text/plain": [
       "               is_iceberg_0  is_iceberg_1  is_iceberg_2  is_iceberg_3  \\\n",
       "is_iceberg_0       1.000000      0.726105      0.914140      0.785668   \n",
       "is_iceberg_1       0.726105      1.000000      0.680894      0.719479   \n",
       "is_iceberg_2       0.914140      0.680894      1.000000      0.742498   \n",
       "is_iceberg_3       0.785668      0.719479      0.742498      1.000000   \n",
       "is_iceberg_4       0.954340      0.728913      0.908363      0.736544   \n",
       "is_iceberg_5       0.952768      0.662862      0.900871      0.668603   \n",
       "is_iceberg_6       0.937031      0.684340      0.873012      0.769805   \n",
       "is_iceberg_7       0.930841      0.663994      0.881850      0.738163   \n",
       "is_iceberg_8       0.929560      0.694811      0.894521      0.746221   \n",
       "is_iceberg_9       0.901693      0.680930      0.869261      0.701256   \n",
       "is_iceberg_10      0.919346      0.647556      0.899224      0.652482   \n",
       "is_iceberg_11      0.555389      0.518634      0.493308      0.689161   \n",
       "is_iceberg_12      0.837292      0.629989      0.789509      0.684805   \n",
       "is_iceberg_13      0.884432      0.741382      0.847913      0.750361   \n",
       "is_iceberg_14      0.930340      0.712434      0.873656      0.826108   \n",
       "is_iceberg_15      0.947099      0.673231      0.909904      0.710405   \n",
       "\n",
       "               is_iceberg_4  is_iceberg_5  is_iceberg_6  is_iceberg_7  \\\n",
       "is_iceberg_0       0.954340      0.952768      0.937031      0.930841   \n",
       "is_iceberg_1       0.728913      0.662862      0.684340      0.663994   \n",
       "is_iceberg_2       0.908363      0.900871      0.873012      0.881850   \n",
       "is_iceberg_3       0.736544      0.668603      0.769805      0.738163   \n",
       "is_iceberg_4       1.000000      0.963411      0.927133      0.927955   \n",
       "is_iceberg_5       0.963411      1.000000      0.897966      0.906836   \n",
       "is_iceberg_6       0.927133      0.897966      1.000000      0.974778   \n",
       "is_iceberg_7       0.927955      0.906836      0.974778      1.000000   \n",
       "is_iceberg_8       0.919228      0.905837      0.890383      0.894958   \n",
       "is_iceberg_9       0.895573      0.886902      0.850786      0.855607   \n",
       "is_iceberg_10      0.928028      0.938943      0.893328      0.907538   \n",
       "is_iceberg_11      0.515547      0.430573      0.522493      0.488086   \n",
       "is_iceberg_12      0.829502      0.821154      0.826440      0.814585   \n",
       "is_iceberg_13      0.962236      0.854066      0.887290      0.879876   \n",
       "is_iceberg_14      0.912589      0.867737      0.940274      0.931398   \n",
       "is_iceberg_15      0.948299      0.946273      0.923272      0.928669   \n",
       "\n",
       "               is_iceberg_8  is_iceberg_9  is_iceberg_10  is_iceberg_11  \\\n",
       "is_iceberg_0       0.929560      0.901693       0.919346       0.555389   \n",
       "is_iceberg_1       0.694811      0.680930       0.647556       0.518634   \n",
       "is_iceberg_2       0.894521      0.869261       0.899224       0.493308   \n",
       "is_iceberg_3       0.746221      0.701256       0.652482       0.689161   \n",
       "is_iceberg_4       0.919228      0.895573       0.928028       0.515547   \n",
       "is_iceberg_5       0.905837      0.886902       0.938943       0.430573   \n",
       "is_iceberg_6       0.890383      0.850786       0.893328       0.522493   \n",
       "is_iceberg_7       0.894958      0.855607       0.907538       0.488086   \n",
       "is_iceberg_8       1.000000      0.930094       0.925647       0.549924   \n",
       "is_iceberg_9       0.930094      1.000000       0.900590       0.529913   \n",
       "is_iceberg_10      0.925647      0.900590       1.000000       0.405560   \n",
       "is_iceberg_11      0.549924      0.529913       0.405560       1.000000   \n",
       "is_iceberg_12      0.786500      0.764674       0.780894       0.489134   \n",
       "is_iceberg_13      0.863955      0.837279       0.847410       0.563222   \n",
       "is_iceberg_14      0.882123      0.846281       0.858499       0.590488   \n",
       "is_iceberg_15      0.937294      0.915275       0.949408       0.483455   \n",
       "\n",
       "               is_iceberg_12  is_iceberg_13  is_iceberg_14  is_iceberg_15  \n",
       "is_iceberg_0        0.837292       0.884432       0.930340       0.947099  \n",
       "is_iceberg_1        0.629989       0.741382       0.712434       0.673231  \n",
       "is_iceberg_2        0.789509       0.847913       0.873656       0.909904  \n",
       "is_iceberg_3        0.684805       0.750361       0.826108       0.710405  \n",
       "is_iceberg_4        0.829502       0.962236       0.912589       0.948299  \n",
       "is_iceberg_5        0.821154       0.854066       0.867737       0.946273  \n",
       "is_iceberg_6        0.826440       0.887290       0.940274       0.923272  \n",
       "is_iceberg_7        0.814585       0.879876       0.931398       0.928669  \n",
       "is_iceberg_8        0.786500       0.863955       0.882123       0.937294  \n",
       "is_iceberg_9        0.764674       0.837279       0.846281       0.915275  \n",
       "is_iceberg_10       0.780894       0.847410       0.858499       0.949408  \n",
       "is_iceberg_11       0.489134       0.563222       0.590488       0.483455  \n",
       "is_iceberg_12       1.000000       0.775830       0.817127       0.823466  \n",
       "is_iceberg_13       0.775830       1.000000       0.889766       0.879306  \n",
       "is_iceberg_14       0.817127       0.889766       1.000000       0.902584  \n",
       "is_iceberg_15       0.823466       0.879306       0.902584       1.000000  "
      ]
     },
     "execution_count": 12,
     "metadata": {},
     "output_type": "execute_result"
    }
   ],
   "source": [
    "# check correlation\n",
    "concat_sub.corr()"
   ]
  },
  {
   "cell_type": "code",
   "execution_count": 19,
   "metadata": {
    "ExecuteTime": {
     "end_time": "2018-01-13T16:59:58.024735Z",
     "start_time": "2018-01-13T16:59:58.016714Z"
    }
   },
   "outputs": [
    {
     "data": {
      "text/plain": [
       "Index(['is_iceberg_5', 'is_iceberg_2'], dtype='object')"
      ]
     },
     "execution_count": 19,
     "metadata": {},
     "output_type": "execute_result"
    }
   ],
   "source": [
    "_08_with_sub54 = concat_sub.corr().nsmallest(2, 'is_iceberg_4').index\n",
    "_08_with_sub54"
   ]
  },
  {
   "cell_type": "code",
   "execution_count": 20,
   "metadata": {
    "ExecuteTime": {
     "end_time": "2018-01-13T17:00:00.075929Z",
     "start_time": "2018-01-13T17:00:00.072420Z"
    },
    "collapsed": true
   },
   "outputs": [],
   "source": [
    "select_concat = concat_sub[_08_with_sub54]"
   ]
  },
  {
   "cell_type": "code",
   "execution_count": 50,
   "metadata": {
    "ExecuteTime": {
     "end_time": "2018-01-12T03:27:38.404175Z",
     "start_time": "2018-01-12T03:27:38.398660Z"
    }
   },
   "outputs": [
    {
     "data": {
      "text/plain": [
       "0    0.005586\n",
       "1    0.031688\n",
       "2    0.001000\n",
       "3    0.999000\n",
       "4    0.022151\n",
       "Name: is_iceberg_12, dtype: float64"
      ]
     },
     "execution_count": 50,
     "metadata": {},
     "output_type": "execute_result"
    }
   ],
   "source": [
    "concat_sub['is_iceberg_12'].head()"
   ]
  },
  {
   "cell_type": "code",
   "execution_count": 21,
   "metadata": {
    "ExecuteTime": {
     "end_time": "2018-01-13T17:00:21.847114Z",
     "start_time": "2018-01-13T17:00:21.665208Z"
    }
   },
   "outputs": [
    {
     "name": "stderr",
     "output_type": "stream",
     "text": [
      "E:\\software\\anaconda\\lib\\site-packages\\pandas\\core\\indexing.py:337: SettingWithCopyWarning: \n",
      "A value is trying to be set on a copy of a slice from a DataFrame.\n",
      "Try using .loc[row_indexer,col_indexer] = value instead\n",
      "\n",
      "See the caveats in the documentation: http://pandas.pydata.org/pandas-docs/stable/indexing.html#indexing-view-versus-copy\n",
      "  self.obj[key] = _infer_fill_value(value)\n",
      "E:\\software\\anaconda\\lib\\site-packages\\pandas\\core\\indexing.py:601: SettingWithCopyWarning: \n",
      "A value is trying to be set on a copy of a slice from a DataFrame.\n",
      "Try using .loc[row_indexer,col_indexer] = value instead\n",
      "\n",
      "See the caveats in the documentation: http://pandas.pydata.org/pandas-docs/stable/indexing.html#indexing-view-versus-copy\n",
      "  self.obj[item_labels[indexer[info_axis]]] = value\n"
     ]
    },
    {
     "data": {
      "text/html": [
       "<div>\n",
       "<style>\n",
       "    .dataframe thead tr:only-child th {\n",
       "        text-align: right;\n",
       "    }\n",
       "\n",
       "    .dataframe thead th {\n",
       "        text-align: left;\n",
       "    }\n",
       "\n",
       "    .dataframe tbody tr th {\n",
       "        vertical-align: top;\n",
       "    }\n",
       "</style>\n",
       "<table border=\"1\" class=\"dataframe\">\n",
       "  <thead>\n",
       "    <tr style=\"text-align: right;\">\n",
       "      <th></th>\n",
       "      <th>is_iceberg_5</th>\n",
       "      <th>is_iceberg_2</th>\n",
       "      <th>is_iceberg_4</th>\n",
       "    </tr>\n",
       "  </thead>\n",
       "  <tbody>\n",
       "    <tr>\n",
       "      <th>0</th>\n",
       "      <td>0.094676</td>\n",
       "      <td>0.015196</td>\n",
       "      <td>0.005586</td>\n",
       "    </tr>\n",
       "    <tr>\n",
       "      <th>1</th>\n",
       "      <td>0.952222</td>\n",
       "      <td>0.939407</td>\n",
       "      <td>0.031688</td>\n",
       "    </tr>\n",
       "    <tr>\n",
       "      <th>2</th>\n",
       "      <td>0.167771</td>\n",
       "      <td>0.040264</td>\n",
       "      <td>0.001000</td>\n",
       "    </tr>\n",
       "    <tr>\n",
       "      <th>3</th>\n",
       "      <td>0.989356</td>\n",
       "      <td>0.999260</td>\n",
       "      <td>0.999000</td>\n",
       "    </tr>\n",
       "    <tr>\n",
       "      <th>4</th>\n",
       "      <td>0.900321</td>\n",
       "      <td>0.828124</td>\n",
       "      <td>0.022151</td>\n",
       "    </tr>\n",
       "  </tbody>\n",
       "</table>\n",
       "</div>"
      ],
      "text/plain": [
       "   is_iceberg_5  is_iceberg_2  is_iceberg_4\n",
       "0      0.094676      0.015196      0.005586\n",
       "1      0.952222      0.939407      0.031688\n",
       "2      0.167771      0.040264      0.001000\n",
       "3      0.989356      0.999260      0.999000\n",
       "4      0.900321      0.828124      0.022151"
      ]
     },
     "execution_count": 21,
     "metadata": {},
     "output_type": "execute_result"
    }
   ],
   "source": [
    "select_concat.loc[:, 'is_iceberg_4'] = concat_sub['is_iceberg_4']\n",
    "select_concat.head()"
   ]
  },
  {
   "cell_type": "code",
   "execution_count": 22,
   "metadata": {
    "ExecuteTime": {
     "end_time": "2018-01-13T17:01:29.180481Z",
     "start_time": "2018-01-13T17:01:29.072806Z"
    }
   },
   "outputs": [
    {
     "name": "stderr",
     "output_type": "stream",
     "text": [
      "E:\\software\\anaconda\\lib\\site-packages\\ipykernel_launcher.py:2: SettingWithCopyWarning: \n",
      "A value is trying to be set on a copy of a slice from a DataFrame.\n",
      "Try using .loc[row_indexer,col_indexer] = value instead\n",
      "\n",
      "See the caveats in the documentation: http://pandas.pydata.org/pandas-docs/stable/indexing.html#indexing-view-versus-copy\n",
      "  \n",
      "E:\\software\\anaconda\\lib\\site-packages\\ipykernel_launcher.py:3: SettingWithCopyWarning: \n",
      "A value is trying to be set on a copy of a slice from a DataFrame.\n",
      "Try using .loc[row_indexer,col_indexer] = value instead\n",
      "\n",
      "See the caveats in the documentation: http://pandas.pydata.org/pandas-docs/stable/indexing.html#indexing-view-versus-copy\n",
      "  This is separate from the ipykernel package so we can avoid doing imports until\n",
      "E:\\software\\anaconda\\lib\\site-packages\\ipykernel_launcher.py:4: SettingWithCopyWarning: \n",
      "A value is trying to be set on a copy of a slice from a DataFrame.\n",
      "Try using .loc[row_indexer,col_indexer] = value instead\n",
      "\n",
      "See the caveats in the documentation: http://pandas.pydata.org/pandas-docs/stable/indexing.html#indexing-view-versus-copy\n",
      "  after removing the cwd from sys.path.\n",
      "E:\\software\\anaconda\\lib\\site-packages\\ipykernel_launcher.py:5: SettingWithCopyWarning: \n",
      "A value is trying to be set on a copy of a slice from a DataFrame.\n",
      "Try using .loc[row_indexer,col_indexer] = value instead\n",
      "\n",
      "See the caveats in the documentation: http://pandas.pydata.org/pandas-docs/stable/indexing.html#indexing-view-versus-copy\n",
      "  \"\"\"\n"
     ]
    }
   ],
   "source": [
    "# get the data fields ready for stacking\n",
    "select_concat['is_iceberg_max'] = select_concat.iloc[:, 1:].max(axis=1)\n",
    "select_concat['is_iceberg_min'] = select_concat.iloc[:, 1:].min(axis=1)\n",
    "select_concat['is_iceberg_mean'] = select_concat.iloc[:, 1:].mean(axis=1)\n",
    "select_concat['is_iceberg_median'] = select_concat.iloc[:, 1:].median(axis=1)"
   ]
  },
  {
   "cell_type": "code",
   "execution_count": 11,
   "metadata": {
    "ExecuteTime": {
     "end_time": "2018-01-17T05:00:22.608927Z",
     "start_time": "2018-01-17T05:00:22.425941Z"
    },
    "collapsed": true
   },
   "outputs": [],
   "source": [
    "# get the data fields ready for stacking\n",
    "concat_sub['is_iceberg_max'] = concat_sub.iloc[:, 1:].max(axis=1)\n",
    "concat_sub['is_iceberg_min'] = concat_sub.iloc[:, 1:].min(axis=1)\n",
    "concat_sub['is_iceberg_mean'] = concat_sub.iloc[:, 1:].mean(axis=1)\n",
    "concat_sub['is_iceberg_median'] = concat_sub.iloc[:, 1:].median(axis=1)"
   ]
  },
  {
   "cell_type": "code",
   "execution_count": 12,
   "metadata": {
    "ExecuteTime": {
     "end_time": "2018-01-17T05:00:24.588336Z",
     "start_time": "2018-01-17T05:00:24.585328Z"
    },
    "collapsed": true
   },
   "outputs": [],
   "source": [
    "# set up cutoff threshold for lower and upper bounds, easy to twist \n",
    "cutoff_lo = 0.8\n",
    "cutoff_hi = 0.2"
   ]
  },
  {
   "cell_type": "markdown",
   "metadata": {},
   "source": [
    "### Mean Stacking"
   ]
  },
  {
   "cell_type": "code",
   "execution_count": 13,
   "metadata": {
    "ExecuteTime": {
     "end_time": "2018-01-17T05:00:27.928897Z",
     "start_time": "2018-01-17T05:00:27.849588Z"
    }
   },
   "outputs": [
    {
     "ename": "NameError",
     "evalue": "name 'select_concat' is not defined",
     "output_type": "error",
     "traceback": [
      "\u001b[1;31m---------------------------------------------------------------------------\u001b[0m",
      "\u001b[1;31mNameError\u001b[0m                                 Traceback (most recent call last)",
      "\u001b[1;32m<ipython-input-13-6b26c266f89a>\u001b[0m in \u001b[0;36m<module>\u001b[1;34m()\u001b[0m\n\u001b[1;32m----> 1\u001b[1;33m \u001b[0mselect_concat\u001b[0m\u001b[1;33m[\u001b[0m\u001b[1;34m'is_iceberg'\u001b[0m\u001b[1;33m]\u001b[0m \u001b[1;33m=\u001b[0m \u001b[0mselect_concat\u001b[0m\u001b[1;33m[\u001b[0m\u001b[1;34m'is_iceberg_mean'\u001b[0m\u001b[1;33m]\u001b[0m\u001b[1;33m\u001b[0m\u001b[0m\n\u001b[0m\u001b[0;32m      2\u001b[0m \u001b[0mselect_concat\u001b[0m\u001b[1;33m[\u001b[0m\u001b[1;34m'id'\u001b[0m\u001b[1;33m]\u001b[0m \u001b[1;33m=\u001b[0m \u001b[0mconcat_sub\u001b[0m\u001b[1;33m[\u001b[0m\u001b[1;34m'id'\u001b[0m\u001b[1;33m]\u001b[0m\u001b[1;33m\u001b[0m\u001b[0m\n\u001b[0;32m      3\u001b[0m select_concat[['id', 'is_iceberg']].to_csv('stack_mean.csv', \n\u001b[0;32m      4\u001b[0m                                         index=False, float_format='%.6f')\n",
      "\u001b[1;31mNameError\u001b[0m: name 'select_concat' is not defined"
     ]
    }
   ],
   "source": [
    "select_concat['is_iceberg'] = select_concat['is_iceberg_mean']\n",
    "select_concat['id'] = concat_sub['id']\n",
    "select_concat[['id', 'is_iceberg']].to_csv('stack_mean.csv', \n",
    "                                        index=False, float_format='%.6f')"
   ]
  },
  {
   "cell_type": "markdown",
   "metadata": {},
   "source": [
    "### Median Stacking"
   ]
  },
  {
   "cell_type": "code",
   "execution_count": 27,
   "metadata": {
    "ExecuteTime": {
     "end_time": "2018-01-13T17:04:51.507504Z",
     "start_time": "2018-01-13T17:04:51.425253Z"
    }
   },
   "outputs": [
    {
     "name": "stderr",
     "output_type": "stream",
     "text": [
      "E:\\software\\anaconda\\lib\\site-packages\\ipykernel_launcher.py:1: SettingWithCopyWarning: \n",
      "A value is trying to be set on a copy of a slice from a DataFrame.\n",
      "Try using .loc[row_indexer,col_indexer] = value instead\n",
      "\n",
      "See the caveats in the documentation: http://pandas.pydata.org/pandas-docs/stable/indexing.html#indexing-view-versus-copy\n",
      "  \"\"\"Entry point for launching an IPython kernel.\n",
      "E:\\software\\anaconda\\lib\\site-packages\\ipykernel_launcher.py:2: SettingWithCopyWarning: \n",
      "A value is trying to be set on a copy of a slice from a DataFrame.\n",
      "Try using .loc[row_indexer,col_indexer] = value instead\n",
      "\n",
      "See the caveats in the documentation: http://pandas.pydata.org/pandas-docs/stable/indexing.html#indexing-view-versus-copy\n",
      "  \n"
     ]
    }
   ],
   "source": [
    "select_concat['is_iceberg'] = select_concat['is_iceberg_median']\n",
    "select_concat['id'] = concat_sub['id']\n",
    "select_concat[['id', 'is_iceberg']].to_csv('stack_median.csv', \n",
    "                                        index=False, float_format='%.6f')"
   ]
  },
  {
   "cell_type": "markdown",
   "metadata": {},
   "source": [
    "### MinMax + Median Stacking"
   ]
  },
  {
   "cell_type": "code",
   "execution_count": 28,
   "metadata": {
    "ExecuteTime": {
     "end_time": "2018-01-13T17:06:06.067139Z",
     "start_time": "2018-01-13T17:06:06.001632Z"
    }
   },
   "outputs": [
    {
     "name": "stderr",
     "output_type": "stream",
     "text": [
      "E:\\software\\anaconda\\lib\\site-packages\\ipykernel_launcher.py:5: SettingWithCopyWarning: \n",
      "A value is trying to be set on a copy of a slice from a DataFrame.\n",
      "Try using .loc[row_indexer,col_indexer] = value instead\n",
      "\n",
      "See the caveats in the documentation: http://pandas.pydata.org/pandas-docs/stable/indexing.html#indexing-view-versus-copy\n",
      "  \"\"\"\n"
     ]
    }
   ],
   "source": [
    "select_concat['is_iceberg'] = np.where(np.all(select_concat.iloc[:,1:] > cutoff_lo, axis=1), \n",
    "                                    select_concat['is_iceberg_max'], \n",
    "                                    np.where(np.all(select_concat.iloc[:,1:] < cutoff_hi, axis=1),\n",
    "                                             select_concat['is_iceberg_min'], \n",
    "                                             select_concat['is_iceberg_median']))\n",
    "select_concat[['id', 'is_iceberg']].to_csv('stack_minmax_median.csv', \n",
    "                                        index=False, float_format='%.6f')"
   ]
  },
  {
   "cell_type": "code",
   "execution_count": 16,
   "metadata": {
    "ExecuteTime": {
     "end_time": "2018-01-17T05:03:10.940619Z",
     "start_time": "2018-01-17T05:03:10.898484Z"
    },
    "collapsed": true
   },
   "outputs": [],
   "source": [
    "concat_sub['is_iceberg'] = np.where(np.all(concat_sub.iloc[:,1:] > cutoff_lo, axis=1), \n",
    "                                    concat_sub['is_iceberg_max'], \n",
    "                                    np.where(np.all(concat_sub.iloc[:,1:] < cutoff_hi, axis=1),\n",
    "                                             concat_sub['is_iceberg_min'], \n",
    "                                             concat_sub['is_iceberg_median']))\n",
    "concat_sub[['id', 'is_iceberg']].to_csv('stack_minmax_median.csv', \n",
    "                                        index=False, float_format='%.6f')"
   ]
  },
  {
   "cell_type": "markdown",
   "metadata": {},
   "source": [
    "### MinMax + BestBase Stacking"
   ]
  },
  {
   "cell_type": "code",
   "execution_count": 14,
   "metadata": {
    "ExecuteTime": {
     "end_time": "2018-01-17T05:01:14.515875Z",
     "start_time": "2018-01-17T05:01:14.506351Z"
    },
    "collapsed": true
   },
   "outputs": [],
   "source": [
    "# load the model with best base performance\n",
    "sub_base = pd.read_csv('submission54_0.1327.csv', float_precision='high')"
   ]
  },
  {
   "cell_type": "code",
   "execution_count": 15,
   "metadata": {
    "ExecuteTime": {
     "end_time": "2018-01-17T05:01:15.515869Z",
     "start_time": "2018-01-17T05:01:15.425648Z"
    },
    "collapsed": true
   },
   "outputs": [],
   "source": [
    "concat_sub['is_iceberg_base'] = sub_base['is_iceberg']\n",
    "concat_sub['is_iceberg'] = np.where(np.all(concat_sub.iloc[:,1:] > cutoff_lo, axis=1), \n",
    "                                    concat_sub['is_iceberg_max'], \n",
    "                                    np.where(np.all(concat_sub.iloc[:,1:] < cutoff_hi, axis=1),\n",
    "                                             concat_sub['is_iceberg_min'], \n",
    "                                             concat_sub['is_iceberg_base']))\n",
    "concat_sub[['id', 'is_iceberg']].to_csv('stack_minmax_bestbase.csv', \n",
    "                                        index=False, float_format='%f')"
   ]
  },
  {
   "cell_type": "code",
   "execution_count": 31,
   "metadata": {
    "ExecuteTime": {
     "end_time": "2018-01-13T17:10:50.808281Z",
     "start_time": "2018-01-13T17:10:50.738751Z"
    },
    "collapsed": true
   },
   "outputs": [],
   "source": [
    "select_concat['is_iceberg_base'] = sub_base['is_iceberg']\n",
    "select_concat['is_iceberg'] = np.where(np.all(select_concat.iloc[:,1:] > cutoff_lo, axis=1), \n",
    "                                    select_concat['is_iceberg_max'], \n",
    "                                    np.where(np.all(select_concat.iloc[:,1:] < cutoff_hi, axis=1),\n",
    "                                             select_concat['is_iceberg_min'], \n",
    "                                             select_concat['is_iceberg_base']))\n",
    "select_concat['id'] = concat_sub['id']\n",
    "select_concat[['id', 'is_iceberg']].to_csv('stack_minmax_bestbase.csv', \n",
    "                                        index=False, float_format='%f')"
   ]
  },
  {
   "cell_type": "code",
   "execution_count": null,
   "metadata": {
    "collapsed": true
   },
   "outputs": [],
   "source": []
  }
 ],
 "metadata": {
  "kernelspec": {
   "display_name": "Python 3",
   "language": "python",
   "name": "python3"
  },
  "language_info": {
   "codemirror_mode": {
    "name": "ipython",
    "version": 3
   },
   "file_extension": ".py",
   "mimetype": "text/x-python",
   "name": "python",
   "nbconvert_exporter": "python",
   "pygments_lexer": "ipython3",
   "version": "3.6.4"
  }
 },
 "nbformat": 4,
 "nbformat_minor": 2
}
